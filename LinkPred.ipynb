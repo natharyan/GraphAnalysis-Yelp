{
 "cells": [
  {
   "cell_type": "code",
   "execution_count": 2,
   "id": "70767b66",
   "metadata": {},
   "outputs": [],
   "source": [
    "from neo4j import GraphDatabase\n",
    "\n",
    "uri = \"bolt://localhost:7687\"\n",
    "username = \"neo4j\"\n",
    "password = \"password\"\n",
    "driver = GraphDatabase.driver(uri, auth=(username, password))"
   ]
  },
  {
   "cell_type": "code",
   "execution_count": 3,
   "id": "b850efff",
   "metadata": {},
   "outputs": [
    {
     "name": "stdout",
     "output_type": "stream",
     "text": [
      "Connection successful\n"
     ]
    }
   ],
   "source": [
    "try:\n",
    "    with driver.session() as session:\n",
    "        result = session.run(\"RETURN 1 AS test\")\n",
    "    print(\"Connection successful\")\n",
    "except Exception as e:\n",
    "    print(f\"Connection failed: {e}\")"
   ]
  },
  {
   "cell_type": "code",
   "execution_count": 4,
   "id": "16d424ca",
   "metadata": {},
   "outputs": [
    {
     "data": {
      "text/plain": [
       "True"
      ]
     },
     "execution_count": 4,
     "metadata": {},
     "output_type": "execute_result"
    }
   ],
   "source": [
    "import os\n",
    "with open('./pathCSV.txt','r') as f:\n",
    "    path = f.read()\n",
    "os.path.exists(path)"
   ]
  },
  {
   "cell_type": "code",
   "execution_count": 5,
   "id": "636bc29d",
   "metadata": {},
   "outputs": [
    {
     "name": "stdout",
     "output_type": "stream",
     "text": [
      "../filteredCSV/business.csv\n"
     ]
    }
   ],
   "source": [
    "business_path = \"business.csv\"\n",
    "review_path = \"review.csv\"\n",
    "# tip_path = \"yelp_academic_dataset_tip.json\"\n",
    "user_path = \"users.csv\"\n",
    "\n",
    "business_path, review_path, user_path = list(map(lambda y: path + '/' + y,[business_path, review_path, user_path]))\n",
    "# business_path, review_path, user_path = list(map(lambda y:'\"'+ path + '/' + y+'\"',[business_path, review_path, user_path]))\n",
    "print(business_path)"
   ]
  },
  {
   "cell_type": "code",
   "execution_count": null,
   "id": "30c379ca",
   "metadata": {},
   "outputs": [],
   "source": [
    "import pandas as pd\n",
    "import neo4j\n",
    "\n",
    "users=pd.read_csv(\"usersAllFriends.csv\")\n",
    "# print(users)\n",
    "users['friends']=users['friends'].fillna('').str.split(',')\n",
    "# print(type(users['friends'][0]))\n",
    "users['friends']=users['friends'].apply(set)\n",
    "# print(type(users['friends'][0]))\n",
    "# users=pd.read_csv(user_path)\n",
    "# users['friends'].str.split(',')\n",
    "\n",
    "n=50\n",
    "selectRandom=\"\"\"\n",
    "        MATCH (a)-[:REVIEWS]->()\n",
    "        RETURN a.user_id, rand() as r\n",
    "        ORDER BY r Limit $n\n",
    "    \"\"\"\n",
    "userList=driver.execute_query(selectRandom,n=n,database_=\"neo4j\",result_transformer_=neo4j.Result.to_df)['a.user_id']\n",
    "# print(userList)\n",
    "accuracy_tot=0\n",
    "total_tot=0\n",
    "for user in userList:\n",
    "\ttrueSet=users[users['user_id']==user]['friends'].iloc[0]\n",
    "\tquery = \"\"\"\n",
    "        MATCH (n1:User {user_id:$user})-[r1:REVIEWS]->(b:Business)<-[r2:REVIEWS]-(n2:User)\n",
    "        WHERE -2 < (r1.stars - r2.stars) < 2 AND NOT (n1)-[:HAS_FRIEND]->(n2)\n",
    "        WITH n1, n2, b\n",
    "        match  (b)--()\n",
    "        with n1,n2, count(*) AS bDegree\n",
    "        WITH n1, n2, SUM(1.0 / log(bDegree)) AS adamicScore\n",
    "\n",
    "        MATCH (n1)-[:REVIEWS]->(:Business)-[:IN_CATEGORY]->(c:Category)<-[:IN_CATEGORY]-(:Business)<-[:REVIEWS]-(n2)\n",
    "        WITH n1, n2, c, adamicScore, count(*) as sharedReviewCount\n",
    "        match (c)--()\n",
    "        WITH n1, n2, c, adamicScore,count(*) AS cDegree,sharedReviewCount\n",
    "        WITH n1, n2, c, adamicScore, sharedReviewCount,count(*) AS cDegree\n",
    "\n",
    "        WITH n1, n2, adamicScore, SUM(1.0 / cDegree) AS categoryBonus\n",
    "        //where (adamicScore + categoryBonus)>0.6\n",
    "        \n",
    "        RETURN adamicScore + categoryBonus AS totalScore, n2.user_id order by totalScore desc limit 10\n",
    "                \"\"\"\n",
    "\tresult=driver.execute_query(query,user=user,database_=\"neo4j\",result_transformer_=neo4j.Result.to_df)['n2.user_id']\n",
    "\ttotal=len(result)\n",
    "\t# print(total)\n",
    "\tcorrect=0\n",
    "\t# print(\"pred\",result)\n",
    "\tfor prediction in result:\n",
    "\t\tif prediction in trueSet:\n",
    "\t\t\tcorrect+=1\n",
    "\tif total!=0:\n",
    "\t\taccuracy=100*correct/total\n",
    "\telse:\n",
    "\t\taccuracy= 0\t\n",
    "\taccuracy_tot+=correct\n",
    "\ttotal_tot+=total\n",
    "\t# print(f\"total:{total}, accuracy:{accuracy}%\")\n",
    "\n",
    "print(f\"Average accuracy: {100*accuracy_tot/total_tot:.2f}%\")\n",
    "\n",
    "users['friends'].map(len).describe()"
   ]
  },
  {
   "cell_type": "code",
   "execution_count": 7,
   "id": "4f98e09a",
   "metadata": {},
   "outputs": [
    {
     "name": "stdout",
     "output_type": "stream",
     "text": [
      "<class 'list'>\n",
      "<class 'set'>\n",
      "total:10, accuracy:0.0%\n",
      "total:10, accuracy:10.0%\n",
      "total:10, accuracy:0.0%\n",
      "total:10, accuracy:0.0%\n",
      "total:10, accuracy:0.0%\n",
      "total:10, accuracy:0.0%\n",
      "total:10, accuracy:0.0%\n",
      "total:10, accuracy:0.0%\n",
      "total:10, accuracy:0.0%\n",
      "total:10, accuracy:0.0%\n",
      "Average accuracy: 1.00%\n"
     ]
    }
   ],
   "source": [
    "import pandas as pd\n",
    "import neo4j\n",
    "\n",
    "users=pd.read_csv(\"usersAllFriends.csv\")\n",
    "# print(users)\n",
    "users['friends']=users['friends'].fillna('').str.split(',')\n",
    "print(type(users['friends'][0]))\n",
    "\n",
    "users['friends']=users['friends'].apply(set)\n",
    "print(type(users['friends'][0]))\n",
    "# users=pd.read_csv(user_path)\n",
    "# users['friends'].str.split(',')\n",
    "\n",
    "n=10\n",
    "selectRandom=\"\"\"\n",
    "        MATCH (a)-[:REVIEWS]->()\n",
    "        RETURN a.user_id, rand() as r\n",
    "        ORDER BY r Limit $n\n",
    "    \"\"\"\n",
    "userList=driver.execute_query(selectRandom,n=n,database_=\"neo4j\",result_transformer_=neo4j.Result.to_df)['a.user_id']\n",
    "# print(userList)\n",
    "accuracy_tot=0\n",
    "total_tot=0\n",
    "for user in userList:\n",
    "\ttrueSet=users[users['user_id']==user]['friends'].iloc[0]\n",
    "\tquery = \"\"\"\n",
    "\t\tMATCH (n1:User {user_id:$user})-[:HAS_FRIEND]->(f)<-[:HAS_FRIEND]-(n2) where not (n1)-[:HAS_FRIEND]->(n2)\n",
    "\t\tWITH n1,n2,f\n",
    "\t\tmatch (f)--()\n",
    "        WITH n1, n2, count(*) as fDegree\n",
    "        WITH n1, n2, SUM(1.0/log(fDegree)) as AAscore\n",
    "        \n",
    "        RETURN AAscore, n2.user_id order by AAscore desc limit 10\n",
    "                \"\"\"\n",
    "\tresult=driver.execute_query(query,user=user,database_=\"neo4j\",result_transformer_=neo4j.Result.to_df)['n2.user_id']\n",
    "\ttotal=len(result)\n",
    "\t# print(total)\n",
    "\tcorrect=0\n",
    "\t# print(\"pred\",result)\n",
    "\tfor prediction in result:\n",
    "\t\tif prediction in trueSet:\n",
    "\t\t\tcorrect+=1\n",
    "\tif total!=0:\n",
    "\t\taccuracy=100*correct/total\n",
    "\telse:\n",
    "\t\taccuracy= 0\t\n",
    "\taccuracy_tot+=correct\n",
    "\ttotal_tot+=total\n",
    "\tprint(f\"total:{total}, accuracy:{accuracy}%\")\n",
    "\n",
    "print(f\"Average accuracy: {100*accuracy_tot/total_tot:.2f}%\")"
   ]
  }
 ],
 "metadata": {
  "kernelspec": {
   "display_name": "base",
   "language": "python",
   "name": "python3"
  },
  "language_info": {
   "codemirror_mode": {
    "name": "ipython",
    "version": 3
   },
   "file_extension": ".py",
   "mimetype": "text/x-python",
   "name": "python",
   "nbconvert_exporter": "python",
   "pygments_lexer": "ipython3",
   "version": "3.10.9"
  }
 },
 "nbformat": 4,
 "nbformat_minor": 5
}
