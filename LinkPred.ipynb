{
 "cells": [
  {
   "cell_type": "code",
   "execution_count": 2,
   "id": "70767b66",
   "metadata": {},
   "outputs": [],
   "source": [
    "from neo4j import GraphDatabase\n",
    "\n",
    "uri = \"bolt://localhost:7687\"\n",
    "username = \"neo4j\"\n",
    "password = \"password\"\n",
    "driver = GraphDatabase.driver(uri, auth=(username, password))"
   ]
  },
  {
   "cell_type": "code",
   "execution_count": 3,
   "id": "b850efff",
   "metadata": {},
   "outputs": [
    {
     "name": "stdout",
     "output_type": "stream",
     "text": [
      "Connection successful\n"
     ]
    }
   ],
   "source": [
    "try:\n",
    "    with driver.session() as session:\n",
    "        result = session.run(\"RETURN 1 AS test\")\n",
    "    print(\"Connection successful\")\n",
    "except Exception as e:\n",
    "    print(f\"Connection failed: {e}\")"
   ]
  },
  {
   "cell_type": "code",
   "execution_count": 4,
   "id": "16d424ca",
   "metadata": {},
   "outputs": [
    {
     "data": {
      "text/plain": [
       "True"
      ]
     },
     "execution_count": 4,
     "metadata": {},
     "output_type": "execute_result"
    }
   ],
   "source": [
    "import os\n",
    "with open('./pathCSV.txt','r') as f:\n",
    "    path = f.read()\n",
    "os.path.exists(path)"
   ]
  },
  {
   "cell_type": "code",
   "execution_count": 5,
   "id": "636bc29d",
   "metadata": {},
   "outputs": [
    {
     "name": "stdout",
     "output_type": "stream",
     "text": [
      "../filteredCSV/business.csv\n"
     ]
    }
   ],
   "source": [
    "business_path = \"business.csv\"\n",
    "review_path = \"review.csv\"\n",
    "# tip_path = \"yelp_academic_dataset_tip.json\"\n",
    "user_path = \"users.csv\"\n",
    "\n",
    "business_path, review_path, user_path = list(map(lambda y: path + '/' + y,[business_path, review_path, user_path]))\n",
    "# business_path, review_path, user_path = list(map(lambda y:'\"'+ path + '/' + y+'\"',[business_path, review_path, user_path]))\n",
    "print(business_path)"
   ]
  },
  {
   "cell_type": "code",
   "execution_count": 13,
   "id": "30c379ca",
   "metadata": {},
   "outputs": [
    {
     "name": "stdout",
     "output_type": "stream",
     "text": [
      "Average accuracy: 45.45%\n"
     ]
    },
    {
     "data": {
      "text/plain": [
       "count    50241.000000\n",
       "mean        78.115145\n",
       "std        181.774114\n",
       "min          1.000000\n",
       "25%         14.000000\n",
       "50%         29.000000\n",
       "75%         69.000000\n",
       "max       5670.000000\n",
       "Name: friends, dtype: float64"
      ]
     },
     "execution_count": 13,
     "metadata": {},
     "output_type": "execute_result"
    }
   ],
   "source": [
    "import pandas as pd\n",
    "import neo4j\n",
    "\n",
    "users=pd.read_csv(\"usersAllFriends.csv\")\n",
    "# print(users)\n",
    "users['friends']=users['friends'].fillna('').str.split(',')\n",
    "# print(type(users['friends'][0]))\n",
    "users['friends']=users['friends'].apply(set)\n",
    "# print(type(users['friends'][0]))\n",
    "# users=pd.read_csv(user_path)\n",
    "# users['friends'].str.split(',')\n",
    "\n",
    "n=50\n",
    "selectRandom=\"\"\"\n",
    "        MATCH (a)-[:REVIEWS]->()\n",
    "        RETURN a.user_id, rand() as r\n",
    "        ORDER BY r Limit $n\n",
    "    \"\"\"\n",
    "userList=driver.execute_query(selectRandom,n=n,database_=\"neo4j\",result_transformer_=neo4j.Result.to_df)['a.user_id']\n",
    "# print(userList)\n",
    "accuracy_tot=0\n",
    "total_tot=0\n",
    "for user in userList:\n",
    "\ttrueSet=users[users['user_id']==user]['friends'].iloc[0]\n",
    "\tquery = \"\"\"\n",
    "        MATCH (n1:User {user_id:$user})-[r1:REVIEWS]->(b:Business)<-[r2:REVIEWS]-(n2:User)\n",
    "        WHERE -2 < (r1.stars - r2.stars) < 2 AND NOT (n1)-[:HAS_FRIEND]->(n2)\n",
    "        WITH n1, n2, b\n",
    "        match  (b)--()\n",
    "        with n1,n2, count(*) AS bDegree\n",
    "        WITH n1, n2, SUM(1.0 / log(bDegree)) AS adamicScore\n",
    "\n",
    "        MATCH (n1)-[:REVIEWS]->(:Business)-[:IN_CATEGORY]->(c:Category)<-[:IN_CATEGORY]-(:Business)<-[:REVIEWS]-(n2)\n",
    "        WITH n1, n2, c, adamicScore, count(*) as sharedReviewCount\n",
    "        match (c)--()\n",
    "        WITH n1, n2, c, adamicScore,count(*) AS cDegree,sharedReviewCount\n",
    "        WITH n1, n2, c, adamicScore, sharedReviewCount,count(*) AS cDegree\n",
    "\n",
    "        WITH n1, n2, adamicScore, SUM(1.0 / cDegree) AS categoryBonus\n",
    "        \n",
    "        RETURN adamicScore + categoryBonus AS totalScore, n2.user_id order by totalScore desc limit 10\n",
    "                \"\"\"\n",
    "\tresult=driver.execute_query(query,user=user,database_=\"neo4j\",result_transformer_=neo4j.Result.to_df)['n2.user_id']\n",
    "\ttotal=len(result)\n",
    "\t# print(total)\n",
    "\tcorrect=0\n",
    "\t# print(\"pred\",result)\n",
    "\tfor prediction in result:\n",
    "\t\tif prediction in trueSet:\n",
    "\t\t\tcorrect+=1\n",
    "\tif total!=0:\n",
    "\t\taccuracy=100*correct/total\n",
    "\telse:\n",
    "\t\taccuracy= 0\t\n",
    "\taccuracy_tot+=correct\n",
    "\ttotal_tot+=total\n",
    "\t# print(f\"total:{total}, accuracy:{accuracy}%\")\n",
    "\n",
    "print(f\"Average accuracy: {100*accuracy_tot/total_tot:.2f}%\")\n",
    "\n",
    "users['friends'].map(len).describe()"
   ]
  },
  {
   "cell_type": "code",
   "execution_count": null,
   "id": "b28b260c",
   "metadata": {},
   "outputs": [
    {
     "data": {
      "application/vnd.plotly.v1+json": {
       "config": {
        "plotlyServerURL": "https://plot.ly"
       },
       "data": [
        {
         "mode": "markers",
         "name": "Review Count",
         "type": "scatter",
         "x": [
          [
           115
          ],
          [
           501
          ],
          [
           13
          ],
          [
           30
          ],
          [
           19
          ],
          [
           99
          ],
          [
           247
          ],
          [
           164
          ],
          [
           234
          ],
          [
           4
          ],
          [
           6
          ],
          [
           6
          ],
          [
           76
          ],
          [
           196
          ],
          [
           5
          ],
          [
           4
          ],
          [
           9
          ],
          [
           9
          ],
          [
           4
          ],
          [
           43
          ],
          [
           335
          ],
          [
           8
          ],
          [
           10
          ],
          [
           220
          ],
          [
           86
          ],
          [
           11
          ],
          [
           10
          ],
          [
           19
          ],
          [
           37
          ],
          [
           22
          ],
          [
           2
          ],
          [
           32
          ],
          [
           10
          ],
          [
           3
          ],
          [
           202
          ],
          [
           6
          ],
          [
           151
          ],
          [
           1
          ],
          [
           159
          ],
          [
           4
          ],
          [
           23
          ],
          [
           180
          ],
          [
           398
          ],
          [
           36
          ],
          [
           1
          ],
          [
           22
          ],
          [
           6
          ],
          [
           6
          ],
          [
           7
          ],
          [
           159
          ]
         ],
         "xaxis": "x",
         "y": [
          70,
          80,
          20,
          30,
          10,
          70,
          60,
          20,
          50,
          0,
          14.285714285714286,
          14.285714285714286,
          60,
          10,
          30,
          10,
          30,
          50,
          0,
          80,
          60,
          40,
          0,
          0,
          30,
          20,
          10,
          20,
          10,
          40,
          0,
          50,
          10,
          100,
          70,
          0,
          60,
          0,
          100,
          20,
          30,
          70,
          70,
          70,
          0,
          40,
          20,
          10,
          40,
          100
         ],
         "yaxis": "y"
        },
        {
         "mode": "markers",
         "name": "Stars",
         "type": "scatter",
         "x": [
          [
           4.199999999999997
          ],
          [
           4.363273453093806
          ],
          [
           4.615384615384615
          ],
          [
           4.499999999999999
          ],
          [
           3.631578947368421
          ],
          [
           4.3434343434343425
          ],
          [
           3.8947368421052637
          ],
          [
           3.060975609756096
          ],
          [
           3.863247863247864
          ],
          [
           4.75
          ],
          [
           4.5
          ],
          [
           4.5
          ],
          [
           4.342105263157895
          ],
          [
           4.607142857142858
          ],
          [
           3.8
          ],
          [
           4
          ],
          [
           2.888888888888889
          ],
          [
           4.333333333333333
          ],
          [
           5
          ],
          [
           4.5813953488372094
          ],
          [
           4.522388059701492
          ],
          [
           3.125
          ],
          [
           4
          ],
          [
           3.7909090909090892
          ],
          [
           3.7674418604651163
          ],
          [
           4.2727272727272725
          ],
          [
           3.5999999999999996
          ],
          [
           2.789473684210526
          ],
          [
           2.7297297297297294
          ],
          [
           4.499999999999998
          ],
          [
           3
          ],
          [
           4.343749999999999
          ],
          [
           3.4
          ],
          [
           5
          ],
          [
           4.549504950495046
          ],
          [
           2.3333333333333335
          ],
          [
           4.192052980132452
          ],
          [
           5
          ],
          [
           3.7924528301886795
          ],
          [
           5
          ],
          [
           3.434782608695652
          ],
          [
           4.494444444444444
          ],
          [
           3.891959798994977
          ],
          [
           3.7777777777777777
          ],
          [
           1
          ],
          [
           4.045454545454545
          ],
          [
           4.5
          ],
          [
           4.333333333333334
          ],
          [
           3.857142857142857
          ],
          [
           3.7924528301886795
          ]
         ],
         "xaxis": "x2",
         "y": [
          70,
          80,
          20,
          30,
          10,
          70,
          60,
          20,
          50,
          0,
          14.285714285714286,
          14.285714285714286,
          60,
          10,
          30,
          10,
          30,
          50,
          0,
          80,
          60,
          40,
          0,
          0,
          30,
          20,
          10,
          20,
          10,
          40,
          0,
          50,
          10,
          100,
          70,
          0,
          60,
          0,
          100,
          20,
          30,
          70,
          70,
          70,
          0,
          40,
          20,
          10,
          40,
          100
         ],
         "yaxis": "y2"
        }
       ],
       "layout": {
        "annotations": [
         {
          "font": {
           "size": 16
          },
          "showarrow": false,
          "text": "Review Count vs Accuracy",
          "x": 0.225,
          "xanchor": "center",
          "xref": "paper",
          "y": 1,
          "yanchor": "bottom",
          "yref": "paper"
         },
         {
          "font": {
           "size": 16
          },
          "showarrow": false,
          "text": "Stars vs Accuracy",
          "x": 0.775,
          "xanchor": "center",
          "xref": "paper",
          "y": 1,
          "yanchor": "bottom",
          "yref": "paper"
         }
        ],
        "height": 600,
        "showlegend": false,
        "template": {
         "data": {
          "bar": [
           {
            "error_x": {
             "color": "#2a3f5f"
            },
            "error_y": {
             "color": "#2a3f5f"
            },
            "marker": {
             "line": {
              "color": "#E5ECF6",
              "width": 0.5
             },
             "pattern": {
              "fillmode": "overlay",
              "size": 10,
              "solidity": 0.2
             }
            },
            "type": "bar"
           }
          ],
          "barpolar": [
           {
            "marker": {
             "line": {
              "color": "#E5ECF6",
              "width": 0.5
             },
             "pattern": {
              "fillmode": "overlay",
              "size": 10,
              "solidity": 0.2
             }
            },
            "type": "barpolar"
           }
          ],
          "carpet": [
           {
            "aaxis": {
             "endlinecolor": "#2a3f5f",
             "gridcolor": "white",
             "linecolor": "white",
             "minorgridcolor": "white",
             "startlinecolor": "#2a3f5f"
            },
            "baxis": {
             "endlinecolor": "#2a3f5f",
             "gridcolor": "white",
             "linecolor": "white",
             "minorgridcolor": "white",
             "startlinecolor": "#2a3f5f"
            },
            "type": "carpet"
           }
          ],
          "choropleth": [
           {
            "colorbar": {
             "outlinewidth": 0,
             "ticks": ""
            },
            "type": "choropleth"
           }
          ],
          "contour": [
           {
            "colorbar": {
             "outlinewidth": 0,
             "ticks": ""
            },
            "colorscale": [
             [
              0,
              "#0d0887"
             ],
             [
              0.1111111111111111,
              "#46039f"
             ],
             [
              0.2222222222222222,
              "#7201a8"
             ],
             [
              0.3333333333333333,
              "#9c179e"
             ],
             [
              0.4444444444444444,
              "#bd3786"
             ],
             [
              0.5555555555555556,
              "#d8576b"
             ],
             [
              0.6666666666666666,
              "#ed7953"
             ],
             [
              0.7777777777777778,
              "#fb9f3a"
             ],
             [
              0.8888888888888888,
              "#fdca26"
             ],
             [
              1,
              "#f0f921"
             ]
            ],
            "type": "contour"
           }
          ],
          "contourcarpet": [
           {
            "colorbar": {
             "outlinewidth": 0,
             "ticks": ""
            },
            "type": "contourcarpet"
           }
          ],
          "heatmap": [
           {
            "colorbar": {
             "outlinewidth": 0,
             "ticks": ""
            },
            "colorscale": [
             [
              0,
              "#0d0887"
             ],
             [
              0.1111111111111111,
              "#46039f"
             ],
             [
              0.2222222222222222,
              "#7201a8"
             ],
             [
              0.3333333333333333,
              "#9c179e"
             ],
             [
              0.4444444444444444,
              "#bd3786"
             ],
             [
              0.5555555555555556,
              "#d8576b"
             ],
             [
              0.6666666666666666,
              "#ed7953"
             ],
             [
              0.7777777777777778,
              "#fb9f3a"
             ],
             [
              0.8888888888888888,
              "#fdca26"
             ],
             [
              1,
              "#f0f921"
             ]
            ],
            "type": "heatmap"
           }
          ],
          "heatmapgl": [
           {
            "colorbar": {
             "outlinewidth": 0,
             "ticks": ""
            },
            "colorscale": [
             [
              0,
              "#0d0887"
             ],
             [
              0.1111111111111111,
              "#46039f"
             ],
             [
              0.2222222222222222,
              "#7201a8"
             ],
             [
              0.3333333333333333,
              "#9c179e"
             ],
             [
              0.4444444444444444,
              "#bd3786"
             ],
             [
              0.5555555555555556,
              "#d8576b"
             ],
             [
              0.6666666666666666,
              "#ed7953"
             ],
             [
              0.7777777777777778,
              "#fb9f3a"
             ],
             [
              0.8888888888888888,
              "#fdca26"
             ],
             [
              1,
              "#f0f921"
             ]
            ],
            "type": "heatmapgl"
           }
          ],
          "histogram": [
           {
            "marker": {
             "pattern": {
              "fillmode": "overlay",
              "size": 10,
              "solidity": 0.2
             }
            },
            "type": "histogram"
           }
          ],
          "histogram2d": [
           {
            "colorbar": {
             "outlinewidth": 0,
             "ticks": ""
            },
            "colorscale": [
             [
              0,
              "#0d0887"
             ],
             [
              0.1111111111111111,
              "#46039f"
             ],
             [
              0.2222222222222222,
              "#7201a8"
             ],
             [
              0.3333333333333333,
              "#9c179e"
             ],
             [
              0.4444444444444444,
              "#bd3786"
             ],
             [
              0.5555555555555556,
              "#d8576b"
             ],
             [
              0.6666666666666666,
              "#ed7953"
             ],
             [
              0.7777777777777778,
              "#fb9f3a"
             ],
             [
              0.8888888888888888,
              "#fdca26"
             ],
             [
              1,
              "#f0f921"
             ]
            ],
            "type": "histogram2d"
           }
          ],
          "histogram2dcontour": [
           {
            "colorbar": {
             "outlinewidth": 0,
             "ticks": ""
            },
            "colorscale": [
             [
              0,
              "#0d0887"
             ],
             [
              0.1111111111111111,
              "#46039f"
             ],
             [
              0.2222222222222222,
              "#7201a8"
             ],
             [
              0.3333333333333333,
              "#9c179e"
             ],
             [
              0.4444444444444444,
              "#bd3786"
             ],
             [
              0.5555555555555556,
              "#d8576b"
             ],
             [
              0.6666666666666666,
              "#ed7953"
             ],
             [
              0.7777777777777778,
              "#fb9f3a"
             ],
             [
              0.8888888888888888,
              "#fdca26"
             ],
             [
              1,
              "#f0f921"
             ]
            ],
            "type": "histogram2dcontour"
           }
          ],
          "mesh3d": [
           {
            "colorbar": {
             "outlinewidth": 0,
             "ticks": ""
            },
            "type": "mesh3d"
           }
          ],
          "parcoords": [
           {
            "line": {
             "colorbar": {
              "outlinewidth": 0,
              "ticks": ""
             }
            },
            "type": "parcoords"
           }
          ],
          "pie": [
           {
            "automargin": true,
            "type": "pie"
           }
          ],
          "scatter": [
           {
            "fillpattern": {
             "fillmode": "overlay",
             "size": 10,
             "solidity": 0.2
            },
            "type": "scatter"
           }
          ],
          "scatter3d": [
           {
            "line": {
             "colorbar": {
              "outlinewidth": 0,
              "ticks": ""
             }
            },
            "marker": {
             "colorbar": {
              "outlinewidth": 0,
              "ticks": ""
             }
            },
            "type": "scatter3d"
           }
          ],
          "scattercarpet": [
           {
            "marker": {
             "colorbar": {
              "outlinewidth": 0,
              "ticks": ""
             }
            },
            "type": "scattercarpet"
           }
          ],
          "scattergeo": [
           {
            "marker": {
             "colorbar": {
              "outlinewidth": 0,
              "ticks": ""
             }
            },
            "type": "scattergeo"
           }
          ],
          "scattergl": [
           {
            "marker": {
             "colorbar": {
              "outlinewidth": 0,
              "ticks": ""
             }
            },
            "type": "scattergl"
           }
          ],
          "scattermapbox": [
           {
            "marker": {
             "colorbar": {
              "outlinewidth": 0,
              "ticks": ""
             }
            },
            "type": "scattermapbox"
           }
          ],
          "scatterpolar": [
           {
            "marker": {
             "colorbar": {
              "outlinewidth": 0,
              "ticks": ""
             }
            },
            "type": "scatterpolar"
           }
          ],
          "scatterpolargl": [
           {
            "marker": {
             "colorbar": {
              "outlinewidth": 0,
              "ticks": ""
             }
            },
            "type": "scatterpolargl"
           }
          ],
          "scatterternary": [
           {
            "marker": {
             "colorbar": {
              "outlinewidth": 0,
              "ticks": ""
             }
            },
            "type": "scatterternary"
           }
          ],
          "surface": [
           {
            "colorbar": {
             "outlinewidth": 0,
             "ticks": ""
            },
            "colorscale": [
             [
              0,
              "#0d0887"
             ],
             [
              0.1111111111111111,
              "#46039f"
             ],
             [
              0.2222222222222222,
              "#7201a8"
             ],
             [
              0.3333333333333333,
              "#9c179e"
             ],
             [
              0.4444444444444444,
              "#bd3786"
             ],
             [
              0.5555555555555556,
              "#d8576b"
             ],
             [
              0.6666666666666666,
              "#ed7953"
             ],
             [
              0.7777777777777778,
              "#fb9f3a"
             ],
             [
              0.8888888888888888,
              "#fdca26"
             ],
             [
              1,
              "#f0f921"
             ]
            ],
            "type": "surface"
           }
          ],
          "table": [
           {
            "cells": {
             "fill": {
              "color": "#EBF0F8"
             },
             "line": {
              "color": "white"
             }
            },
            "header": {
             "fill": {
              "color": "#C8D4E3"
             },
             "line": {
              "color": "white"
             }
            },
            "type": "table"
           }
          ]
         },
         "layout": {
          "annotationdefaults": {
           "arrowcolor": "#2a3f5f",
           "arrowhead": 0,
           "arrowwidth": 1
          },
          "autotypenumbers": "strict",
          "coloraxis": {
           "colorbar": {
            "outlinewidth": 0,
            "ticks": ""
           }
          },
          "colorscale": {
           "diverging": [
            [
             0,
             "#8e0152"
            ],
            [
             0.1,
             "#c51b7d"
            ],
            [
             0.2,
             "#de77ae"
            ],
            [
             0.3,
             "#f1b6da"
            ],
            [
             0.4,
             "#fde0ef"
            ],
            [
             0.5,
             "#f7f7f7"
            ],
            [
             0.6,
             "#e6f5d0"
            ],
            [
             0.7,
             "#b8e186"
            ],
            [
             0.8,
             "#7fbc41"
            ],
            [
             0.9,
             "#4d9221"
            ],
            [
             1,
             "#276419"
            ]
           ],
           "sequential": [
            [
             0,
             "#0d0887"
            ],
            [
             0.1111111111111111,
             "#46039f"
            ],
            [
             0.2222222222222222,
             "#7201a8"
            ],
            [
             0.3333333333333333,
             "#9c179e"
            ],
            [
             0.4444444444444444,
             "#bd3786"
            ],
            [
             0.5555555555555556,
             "#d8576b"
            ],
            [
             0.6666666666666666,
             "#ed7953"
            ],
            [
             0.7777777777777778,
             "#fb9f3a"
            ],
            [
             0.8888888888888888,
             "#fdca26"
            ],
            [
             1,
             "#f0f921"
            ]
           ],
           "sequentialminus": [
            [
             0,
             "#0d0887"
            ],
            [
             0.1111111111111111,
             "#46039f"
            ],
            [
             0.2222222222222222,
             "#7201a8"
            ],
            [
             0.3333333333333333,
             "#9c179e"
            ],
            [
             0.4444444444444444,
             "#bd3786"
            ],
            [
             0.5555555555555556,
             "#d8576b"
            ],
            [
             0.6666666666666666,
             "#ed7953"
            ],
            [
             0.7777777777777778,
             "#fb9f3a"
            ],
            [
             0.8888888888888888,
             "#fdca26"
            ],
            [
             1,
             "#f0f921"
            ]
           ]
          },
          "colorway": [
           "#636efa",
           "#EF553B",
           "#00cc96",
           "#ab63fa",
           "#FFA15A",
           "#19d3f3",
           "#FF6692",
           "#B6E880",
           "#FF97FF",
           "#FECB52"
          ],
          "font": {
           "color": "#2a3f5f"
          },
          "geo": {
           "bgcolor": "white",
           "lakecolor": "white",
           "landcolor": "#E5ECF6",
           "showlakes": true,
           "showland": true,
           "subunitcolor": "white"
          },
          "hoverlabel": {
           "align": "left"
          },
          "hovermode": "closest",
          "mapbox": {
           "style": "light"
          },
          "paper_bgcolor": "white",
          "plot_bgcolor": "#E5ECF6",
          "polar": {
           "angularaxis": {
            "gridcolor": "white",
            "linecolor": "white",
            "ticks": ""
           },
           "bgcolor": "#E5ECF6",
           "radialaxis": {
            "gridcolor": "white",
            "linecolor": "white",
            "ticks": ""
           }
          },
          "scene": {
           "xaxis": {
            "backgroundcolor": "#E5ECF6",
            "gridcolor": "white",
            "gridwidth": 2,
            "linecolor": "white",
            "showbackground": true,
            "ticks": "",
            "zerolinecolor": "white"
           },
           "yaxis": {
            "backgroundcolor": "#E5ECF6",
            "gridcolor": "white",
            "gridwidth": 2,
            "linecolor": "white",
            "showbackground": true,
            "ticks": "",
            "zerolinecolor": "white"
           },
           "zaxis": {
            "backgroundcolor": "#E5ECF6",
            "gridcolor": "white",
            "gridwidth": 2,
            "linecolor": "white",
            "showbackground": true,
            "ticks": "",
            "zerolinecolor": "white"
           }
          },
          "shapedefaults": {
           "line": {
            "color": "#2a3f5f"
           }
          },
          "ternary": {
           "aaxis": {
            "gridcolor": "white",
            "linecolor": "white",
            "ticks": ""
           },
           "baxis": {
            "gridcolor": "white",
            "linecolor": "white",
            "ticks": ""
           },
           "bgcolor": "#E5ECF6",
           "caxis": {
            "gridcolor": "white",
            "linecolor": "white",
            "ticks": ""
           }
          },
          "title": {
           "x": 0.05
          },
          "xaxis": {
           "automargin": true,
           "gridcolor": "white",
           "linecolor": "white",
           "ticks": "",
           "title": {
            "standoff": 15
           },
           "zerolinecolor": "white",
           "zerolinewidth": 2
          },
          "yaxis": {
           "automargin": true,
           "gridcolor": "white",
           "linecolor": "white",
           "ticks": "",
           "title": {
            "standoff": 15
           },
           "zerolinecolor": "white",
           "zerolinewidth": 2
          }
         }
        },
        "title": {
         "text": "Accuracy vs Review Metrics"
        },
        "width": 1000,
        "xaxis": {
         "anchor": "y",
         "domain": [
          0,
          0.45
         ],
         "title": {
          "text": "Review Count"
         }
        },
        "xaxis2": {
         "anchor": "y2",
         "domain": [
          0.55,
          1
         ],
         "title": {
          "text": "Review Count"
         }
        },
        "yaxis": {
         "anchor": "x",
         "domain": [
          0,
          1
         ],
         "title": {
          "text": "Accuracy"
         }
        },
        "yaxis2": {
         "anchor": "x2",
         "domain": [
          0,
          1
         ],
         "title": {
          "text": "Accuracy"
         }
        }
       }
      }
     },
     "metadata": {},
     "output_type": "display_data"
    }
   ],
   "source": [
    "import pandas as pd\n",
    "import neo4j\n",
    "\n",
    "users=pd.read_csv(\"usersAllFriends.csv\")\n",
    "# print(users)\n",
    "users['friends']=users['friends'].fillna('').str.split(',')\n",
    "# print(type(users['friends'][0]))\n",
    "users['friends']=users['friends'].apply(set)\n",
    "\n",
    "\n",
    "n=50\n",
    "selectRandom=\"\"\"\n",
    "        MATCH (a)-[:REVIEWS]->()\n",
    "        RETURN a.user_id, rand() as r\n",
    "        ORDER BY r Limit $n\n",
    "    \"\"\"\n",
    "userList=driver.execute_query(selectRandom,n=n,database_=\"neo4j\",result_transformer_=neo4j.Result.to_df)['a.user_id']\n",
    "# print(userList)\n",
    "accuracy_tot=[]\n",
    "reviews=[]\n",
    "stars=[]\n",
    "for user in userList:\n",
    "\ttrueSet=users[users['user_id']==user]['friends'].iloc[0]\n",
    "\tquery = \"\"\"\n",
    "        MATCH (n1:User {user_id:$user})-[r1:REVIEWS]->(b:Business)<-[r2:REVIEWS]-(n2:User)\n",
    "        WHERE -2 < (r1.stars - r2.stars) < 2 AND NOT (n1)-[:HAS_FRIEND]->(n2)\n",
    "        WITH n1, n2, b\n",
    "        match  (b)--()\n",
    "        with n1,n2, count(*) AS bDegree\n",
    "        WITH n1, n2, SUM(1.0 / log(bDegree)) AS adamicScore\n",
    "\n",
    "        MATCH (n1)-[:REVIEWS]->(:Business)-[:IN_CATEGORY]->(c:Category)<-[:IN_CATEGORY]-(:Business)<-[:REVIEWS]-(n2)\n",
    "        WITH n1, n2, c, adamicScore, count(*) as sharedReviewCount\n",
    "        match (c)--()\n",
    "        WITH n1, n2, c, adamicScore,count(*) AS cDegree,sharedReviewCount\n",
    "        WITH n1, n2, c, adamicScore, sharedReviewCount,count(*) AS cDegree\n",
    "\n",
    "        WITH n1, n2, adamicScore, SUM(1.0 / cDegree) AS categoryBonus\n",
    "        \n",
    "        RETURN adamicScore + categoryBonus AS totalScore, n2.user_id order by totalScore desc limit 10\n",
    "                \"\"\"\n",
    "\tresult=driver.execute_query(query,user=user,database_=\"neo4j\",result_transformer_=neo4j.Result.to_df)['n2.user_id']\n",
    "\ttotal=len(result)\n",
    "\t# print(total)\n",
    "\tcorrect=0\n",
    "\t# print(\"pred\",result)\n",
    "\tfor prediction in result:\n",
    "\t\tif prediction in trueSet:\n",
    "\t\t\tcorrect+=1\n",
    "\tif total!=0:\n",
    "\t\taccuracy=100*correct/total\n",
    "\telse:\n",
    "\t\taccuracy= 0\t\n",
    "\tfindRevs=\"\"\"\n",
    "\tMATCH (n1:User {user_id:$user})-[r1:REVIEWS]->()\n",
    "\twith Count(*) as numRevs, avg(r1.stars) as stars\n",
    "\tReturn numRevs, stars\n",
    "\"\"\"\n",
    "\tRevInfo=driver.execute_query(findRevs,user=user,database_=\"neo4j\",result_transformer_=neo4j.Result.to_df)\n",
    "\taccuracy_tot+=[accuracy]\n",
    "\treviews+=[RevInfo['numRevs']]\n",
    "\tstars+=[RevInfo['stars']]\n",
    "\n",
    "import plotly.graph_objects as go\n",
    "from plotly.subplots import make_subplots\n",
    "\n",
    "# Create subplot figure\n",
    "fig = make_subplots(rows=1, cols=2, subplot_titles=(\"Review Count vs Accuracy\", \"Stars vs Accuracy\"))\n",
    "\n",
    "# First scatter plot\n",
    "fig.add_trace(\n",
    "    go.Scatter(x=reviews, y=accuracy_tot, mode='markers', name='Review Count'),\n",
    "    row=1, col=1\n",
    ")\n",
    "\n",
    "# Second scatter plot\n",
    "fig.add_trace(\n",
    "    go.Scatter(x=stars, y=accuracy_tot, mode='markers', name='Stars'),\n",
    "    row=1, col=2\n",
    ")\n",
    "\n",
    "# Update axes labels\n",
    "fig.update_xaxes(title_text=\"Review Count\", row=1, col=1)\n",
    "fig.update_yaxes(title_text=\"Accuracy\", row=1, col=1)\n",
    "\n",
    "fig.update_xaxes(title_text=\"Review Count\", row=1, col=2)\n",
    "fig.update_yaxes(title_text=\"Accuracy\", row=1, col=2)\n",
    "\n",
    "# Set overall figure size\n",
    "fig.update_layout(height=600, width=1000, title_text=\"Accuracy vs Review Metrics\", showlegend=False)\n",
    "\n",
    "fig.show()\n"
   ]
  }
 ],
 "metadata": {
  "kernelspec": {
   "display_name": "base",
   "language": "python",
   "name": "python3"
  },
  "language_info": {
   "codemirror_mode": {
    "name": "ipython",
    "version": 3
   },
   "file_extension": ".py",
   "mimetype": "text/x-python",
   "name": "python",
   "nbconvert_exporter": "python",
   "pygments_lexer": "ipython3",
   "version": "3.10.9"
  }
 },
 "nbformat": 4,
 "nbformat_minor": 5
}
