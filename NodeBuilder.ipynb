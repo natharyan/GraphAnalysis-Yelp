{
 "cells": [
  {
   "cell_type": "code",
   "execution_count": 2,
   "id": "ee8d149e",
   "metadata": {},
   "outputs": [],
   "source": [
    "from neo4j import GraphDatabase\n",
    "\n",
    "uri = \"bolt://localhost:7687\"\n",
    "username = \"neo4j\"\n",
    "password = \"password\"\n",
    "driver = GraphDatabase.driver(uri, auth=(username, password))"
   ]
  },
  {
   "cell_type": "code",
   "execution_count": 3,
   "id": "cf12cf17",
   "metadata": {},
   "outputs": [
    {
     "name": "stdout",
     "output_type": "stream",
     "text": [
      "Connection successful\n"
     ]
    }
   ],
   "source": [
    "try:\n",
    "    with driver.session() as session:\n",
    "        result = session.run(\"RETURN 1 AS test\")\n",
    "    print(\"Connection successful\")\n",
    "except Exception as e:\n",
    "    print(f\"Connection failed: {e}\")"
   ]
  },
  {
   "cell_type": "code",
   "execution_count": 4,
   "id": "da69790e",
   "metadata": {},
   "outputs": [
    {
     "data": {
      "text/plain": [
       "True"
      ]
     },
     "execution_count": 4,
     "metadata": {},
     "output_type": "execute_result"
    }
   ],
   "source": [
    "import os\n",
    "with open('./pathCSV.txt','r') as f:\n",
    "    path = f.read()\n",
    "os.path.exists(path)"
   ]
  },
  {
   "cell_type": "code",
   "execution_count": 14,
   "id": "72cfa12b",
   "metadata": {},
   "outputs": [
    {
     "name": "stdout",
     "output_type": "stream",
     "text": [
      "../filteredCSV/business.csv\n"
     ]
    }
   ],
   "source": [
    "business_path = \"business.csv\"\n",
    "review_path = \"review.csv\"\n",
    "# tip_path = \"yelp_academic_dataset_tip.json\"\n",
    "user_path = \"user.csv\"\n",
    "\n",
    "business_path, review_path, user_path = list(map(lambda y: path + '/' + y,[business_path, review_path, user_path]))\n",
    "# business_path, review_path, user_path = list(map(lambda y:'\"'+ path + '/' + y+'\"',[business_path, review_path, user_path]))\n",
    "print(business_path)"
   ]
  },
  {
   "cell_type": "code",
   "execution_count": 33,
   "id": "96810ad7",
   "metadata": {},
   "outputs": [
    {
     "name": "stdout",
     "output_type": "stream",
     "text": [
      "Index(['business_id', 'name', 'address', 'city', 'state', 'postal_code',\n",
      "       'latitude', 'longitude', 'stars', 'review_count', 'is_open',\n",
      "       'attributes', 'categories', 'hours'],\n",
      "      dtype='object')\n"
     ]
    },
    {
     "name": "stderr",
     "output_type": "stream",
     "text": [
      "C:\\Users\\susha\\AppData\\Local\\Temp\\ipykernel_6480\\3728677617.py:45: DeprecationWarning: Using a driver after it has been closed is deprecated. Future versions of the driver will raise an error.\n",
      "  with driver.session() as session:\n"
     ]
    }
   ],
   "source": [
    "def import_csv(tx, csv_file_path, query):\n",
    "    with open(csv_file_path, 'r') as file:\n",
    "        tx.run(query, file=file)\n",
    "    # with open(csv_file_path, 'r') as file:\n",
    "    #     csv_data = file.read()\n",
    "    # tx.run(query,file=file)\n",
    "# csv_file_path = \"path/to/your/data.csv\"\n",
    "\n",
    "import pandas as pd\n",
    "\n",
    "# Read CSV into Pandas DataFrame\n",
    "df = pd.read_csv(business_path)\n",
    "print(df.columns)\n",
    "\n",
    "# Function to create nodes and relationships\n",
    "def create_graph(tx, df):\n",
    "    for _, row in df.iterrows():\n",
    "        # Example: Create a node with properties from the CSV row\n",
    "        query = \"\"\"CREATE (n:Businses  {name:$name,\n",
    "                    business_id:$business_id, \n",
    "                    address:$address,\n",
    "                    city:$city,\n",
    "                    state:$state,\n",
    "                    latitude:$latitude,\n",
    "                    longitude:$longitude,\n",
    "                    stars:$stars,\n",
    "                    review_count:$review_count,\n",
    "                    hours:$hours,\n",
    "                    attributes:$attributes})\n",
    "                    \"\"\"\n",
    "\n",
    "        tx.run(query, business_id=row['business_id'],\n",
    "                    address=['address'],\n",
    "                    name=row['name'],\n",
    "                    city=row['city'],\n",
    "                    state=row['state'],\n",
    "                    latitude=row['latitude'],\n",
    "                    longitude=row['longitude'],\n",
    "                    stars=row['stars'],\n",
    "                    review_count=row['review_count'],\n",
    "                    hours=row['hours'],\n",
    "                    attributes=row['attributes'])\n",
    "\n",
    "# Execute the function within a transaction\n",
    "with driver.session() as session:\n",
    "    session.execute_write(create_graph, df)\n",
    "\n",
    "# Close the driver\n",
    "driver.close()"
   ]
  }
 ],
 "metadata": {
  "kernelspec": {
   "display_name": "base",
   "language": "python",
   "name": "python3"
  },
  "language_info": {
   "codemirror_mode": {
    "name": "ipython",
    "version": 3
   },
   "file_extension": ".py",
   "mimetype": "text/x-python",
   "name": "python",
   "nbconvert_exporter": "python",
   "pygments_lexer": "ipython3",
   "version": "3.10.9"
  }
 },
 "nbformat": 4,
 "nbformat_minor": 5
}
