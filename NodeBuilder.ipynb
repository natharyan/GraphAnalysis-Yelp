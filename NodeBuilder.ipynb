{
 "cells": [
  {
   "cell_type": "code",
   "execution_count": 1,
   "id": "ee8d149e",
   "metadata": {},
   "outputs": [],
   "source": [
    "from neo4j import GraphDatabase\n",
    "\n",
    "uri = \"bolt://localhost:7687\"\n",
    "username = \"neo4j\"\n",
    "password = \"password\"\n",
    "driver = GraphDatabase.driver(uri, auth=(username, password))"
   ]
  },
  {
   "cell_type": "code",
   "execution_count": 2,
   "id": "cf12cf17",
   "metadata": {},
   "outputs": [
    {
     "name": "stdout",
     "output_type": "stream",
     "text": [
      "Connection successful\n"
     ]
    }
   ],
   "source": [
    "try:\n",
    "    with driver.session() as session:\n",
    "        result = session.run(\"RETURN 1 AS test\")\n",
    "    print(\"Connection successful\")\n",
    "except Exception as e:\n",
    "    print(f\"Connection failed: {e}\")"
   ]
  },
  {
   "cell_type": "code",
   "execution_count": 3,
   "id": "da69790e",
   "metadata": {},
   "outputs": [
    {
     "data": {
      "text/plain": [
       "True"
      ]
     },
     "execution_count": 3,
     "metadata": {},
     "output_type": "execute_result"
    }
   ],
   "source": [
    "import os\n",
    "with open('./pathCSV.txt','r') as f:\n",
    "    path = f.read()\n",
    "os.path.exists(path)"
   ]
  },
  {
   "cell_type": "code",
   "execution_count": 4,
   "id": "72cfa12b",
   "metadata": {},
   "outputs": [
    {
     "name": "stdout",
     "output_type": "stream",
     "text": [
      "../filteredCSV/business.csv\n"
     ]
    }
   ],
   "source": [
    "business_path = \"business.csv\"\n",
    "review_path = \"review.csv\"\n",
    "# tip_path = \"yelp_academic_dataset_tip.json\"\n",
    "user_path = \"users.csv\"\n",
    "\n",
    "business_path, review_path, user_path = list(map(lambda y: path + '/' + y,[business_path, review_path, user_path]))\n",
    "# business_path, review_path, user_path = list(map(lambda y:'\"'+ path + '/' + y+'\"',[business_path, review_path, user_path]))\n",
    "print(business_path)"
   ]
  },
  {
   "cell_type": "code",
   "execution_count": null,
   "id": "96810ad7",
   "metadata": {},
   "outputs": [
    {
     "name": "stdout",
     "output_type": "stream",
     "text": [
      "Index(['business_id', 'name', 'address', 'city', 'state', 'postal_code',\n",
      "       'latitude', 'longitude', 'stars', 'review_count', 'is_open',\n",
      "       'attributes', 'categories', 'hours'],\n",
      "      dtype='object')\n"
     ]
    },
    {
     "name": "stderr",
     "output_type": "stream",
     "text": [
      "C:\\Users\\susha\\AppData\\Local\\Temp\\ipykernel_6480\\3299428289.py:50: DeprecationWarning: Using a driver after it has been closed is deprecated. Future versions of the driver will raise an error.\n",
      "  with driver.session() as session:\n"
     ]
    }
   ],
   "source": [
    "def import_csv(tx, csv_file_path, query):\n",
    "    with open(csv_file_path, 'r') as file:\n",
    "        tx.run(query, file=file)\n",
    "    # with open(csv_file_path, 'r') as file:\n",
    "    #     csv_data = file.read()\n",
    "    # tx.run(query,file=file)\n",
    "# csv_file_path = \"path/to/your/data.csv\"\n",
    "\n",
    "import pandas as pd\n",
    "\n",
    "# Read CSV into Pandas DataFrame\n",
    "users = pd.read_csv(business_path)\n",
    "print(users.columns)\n",
    "\n",
    "# Function to create nodes and relationships\n",
    "def create_graph(tx, df):\n",
    "    for _, row in df.iterrows():\n",
    "        # query = \"\"\"CREATE (n:Businses  {name:$name,\n",
    "        #change this to use SET so that ubusiness ID is only thing that is unique that is tehre\n",
    "        query = \"\"\"Merge (n:Businses  {business_id:$business_id})\n",
    "                SET n.name=$name, \n",
    "                    n.address=$address,\n",
    "                    n.city=$city,\n",
    "                    n.state=$state,\n",
    "                    n.latitude=$latitude,\n",
    "                    n.longitude=$longitude,\n",
    "                    n.stars=$stars,\n",
    "                    n.review_count=$review_count,\n",
    "                    n.hours=$hours,\n",
    "                    n.attributes=$attributes})\n",
    "                    With n, split($categories,', ') as cats\n",
    "                    unwind cats AS cat\n",
    "                    merge (c:Category {name: cat})\n",
    "                    Merge (n)-[:IN_CATEGORY]->(c)\n",
    "                    \"\"\"\n",
    "\n",
    "        tx.run(query, business_id=row['business_id'],\n",
    "                    address=['address'],\n",
    "                    name=row['name'],\n",
    "                    city=row['city'],\n",
    "                    state=row['state'],\n",
    "                    latitude=row['latitude'],\n",
    "                    longitude=row['longitude'],\n",
    "                    stars=row['stars'],\n",
    "                    review_count=row['review_count'],\n",
    "                    hours=row['hours'],\n",
    "                    attributes=row['attributes'],\n",
    "                    categories=row['categories'])\n",
    "\n",
    "# Execute the function within a transaction\n",
    "with driver.session() as session:\n",
    "    session.execute_write(create_graph, users)\n",
    "\n",
    "# Close the driver\n",
    "driver.close()"
   ]
  },
  {
   "cell_type": "code",
   "execution_count": null,
   "id": "92aca7d5",
   "metadata": {},
   "outputs": [
    {
     "name": "stdout",
     "output_type": "stream",
     "text": [
      "chunk 1 being processed\n",
      "chunk converted to dicts\n"
     ]
    }
   ],
   "source": [
    "def import_csv(tx, csv_file_path, query):\n",
    "    with open(csv_file_path, 'r') as file:\n",
    "        tx.run(query, file=file)\n",
    "\n",
    "import pandas as pd\n",
    "\n",
    "# Function to create nodes and relationships\n",
    "def create_graph(tx, users_data):\n",
    "    # for _, row in users.iterrows():\n",
    "    query = \"\"\"UNWIND $users AS row\n",
    "            MERGE (n:User {user_id: row.user_id})\n",
    "                SET n.name = row.name,\n",
    "                    n.review_count = row.review_count,\n",
    "                    n.yelping_since = row.yelping_since,\n",
    "                    n.useful = row.useful,\n",
    "                    n.funny = row.funny,\n",
    "                    n.cool = row.cool,\n",
    "                    n.fans = row.fans,\n",
    "                    n.average_stars = row.average_stars,\n",
    "                    n.compliment_hot = row.compliment_hot,\n",
    "                    n.compliment_more = row.compliment_more,\n",
    "                    n.compliment_profile = row.compliment_profile,\n",
    "                    n.compliment_cute = row.compliment_cute,\n",
    "                    n.compliment_list = row.compliment_list,\n",
    "                    n.compliment_note = row.compliment_note,\n",
    "                    n.compliment_plain = row.compliment_plain,\n",
    "                    n.compliment_cool = row.compliment_cool,\n",
    "                    n.compliment_funny = row.compliment_funny,\n",
    "                    n.compliment_writer = row.compliment_writer\n",
    "\n",
    "                WITH n, split(rtrim(row.friends), ',') AS frens\n",
    "                UNWIND frens AS friend_id\n",
    "                MERGE (f:User {user_id: friend_id})\n",
    "                MERGE (n)-[:HAS_FRIEND]->(f)\n",
    "                \"\"\"\n",
    "    tx.run(query,users_data)\n",
    "\n",
    "# Execute the function within a transaction\n",
    "chunk_size = 10000\n",
    "i=1\n",
    "for chunk in pd.read_csv(user_path, chunksize=chunk_size):\n",
    "    print(f\"chunk {i} being processed\")\n",
    "    users= chunk.to_dict('records')\n",
    "    print(\"chunk converted to dicts\")\n",
    "    with driver.session() as session:\n",
    "        session.execute_write(create_graph, users)\n",
    "    print(\"chunk processed\")\n",
    "    i+=1\n",
    "\n",
    "# Close the driver\n",
    "driver.close()"
   ]
  },
  {
   "cell_type": "code",
   "execution_count": null,
   "id": "ca4f8e2b",
   "metadata": {},
   "outputs": [],
   "source": []
  }
 ],
 "metadata": {
  "kernelspec": {
   "display_name": "base",
   "language": "python",
   "name": "python3"
  },
  "language_info": {
   "codemirror_mode": {
    "name": "ipython",
    "version": 3
   },
   "file_extension": ".py",
   "mimetype": "text/x-python",
   "name": "python",
   "nbconvert_exporter": "python",
   "pygments_lexer": "ipython3",
   "version": "3.10.9"
  }
 },
 "nbformat": 4,
 "nbformat_minor": 5
}
