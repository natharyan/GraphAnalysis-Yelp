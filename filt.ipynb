{
 "cells": [
  {
   "cell_type": "code",
   "execution_count": 2,
   "id": "7f8e3179",
   "metadata": {},
   "outputs": [],
   "source": [
    "import json"
   ]
  },
  {
   "cell_type": "code",
   "execution_count": 7,
   "id": "30602e55",
   "metadata": {},
   "outputs": [
    {
     "name": "stdout",
     "output_type": "stream",
     "text": [
      "1987897 TOTAL\n",
      "993654\n"
     ]
    }
   ],
   "source": [
    "try:\n",
    "    with open(\"..\\Yelp_JSON\\yelp_dataset\\yelp_academic_dataset_user.json\", 'r') as file:\n",
    "        line_count = sum(1 for line in file)\n",
    "        print(line_count, \"TOTAL\")\n",
    "    invCount=0\n",
    "    # data = []\n",
    "    with open(\"..\\Yelp_JSON\\yelp_dataset\\yelp_academic_dataset_user.json\", 'r') as file:\n",
    "        # line_count = sum(1 for line in file)\n",
    "        # print(line_count, \"TOTAL\")\n",
    "        for line in file:\n",
    "            # T=True\n",
    "            json_object = json.loads(line)\n",
    "            if isinstance(json_object, dict):\n",
    "                friends = json_object.get(\"friends\", \"Key not found\")\n",
    "                if isinstance(friends,str):\n",
    "                    # print(\"fren\")\n",
    "                    # list = friends.split(\",\")\n",
    "                    val=friends.count(\",\")\n",
    "                    if val<1: # val < 3 implies 0-3 friends\n",
    "                        # print(\"Isolate\")\n",
    "                        invCount+=1\n",
    "                        # T=False\n",
    "                # print(f\"friends: {friends}\")\n",
    "            else:\n",
    "                    print(\"Not a JSON object:\", json_object)\n",
    "            # if T:\n",
    "                # data.append(json_object)\n",
    "                # if len(data)<11:\n",
    "                #     print(json_object)\n",
    "            # except json.JSONDecodeError:\n",
    "                # print(f\"Skipping invalid JSON line: {line.strip()}\")\n",
    "        print(invCount)\n",
    "        # print(data)\n",
    "except FileNotFoundError:\n",
    "    print(\"Error: File not found.\")\n"
   ]
  }
 ],
 "metadata": {
  "kernelspec": {
   "display_name": "base",
   "language": "python",
   "name": "python3"
  },
  "language_info": {
   "codemirror_mode": {
    "name": "ipython",
    "version": 3
   },
   "file_extension": ".py",
   "mimetype": "text/x-python",
   "name": "python",
   "nbconvert_exporter": "python",
   "pygments_lexer": "ipython3",
   "version": "3.10.9"
  }
 },
 "nbformat": 4,
 "nbformat_minor": 5
}
