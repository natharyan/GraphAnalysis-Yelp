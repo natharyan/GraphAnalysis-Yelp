{
 "cells": [
  {
   "cell_type": "code",
   "execution_count": 6,
   "metadata": {},
   "outputs": [],
   "source": [
    "from neo4j import GraphDatabase\n",
    "\n",
    "uri = \"bolt://localhost:7690\"\n",
    "username = \"neo4j\"\n",
    "password = \"Aryan@2004\"\n",
    "driver = GraphDatabase.driver(uri, auth=(username, password))"
   ]
  },
  {
   "cell_type": "code",
   "execution_count": 7,
   "metadata": {},
   "outputs": [
    {
     "name": "stdout",
     "output_type": "stream",
     "text": [
      "Connection successful\n"
     ]
    }
   ],
   "source": [
    "try:\n",
    "    with driver.session() as session:\n",
    "        result = session.run(\"RETURN 1 AS test\")\n",
    "    print(\"Connection successful\")\n",
    "except Exception as e:\n",
    "    print(f\"Connection failed: {e}\")"
   ]
  },
  {
   "cell_type": "code",
   "execution_count": 10,
   "metadata": {},
   "outputs": [
    {
     "data": {
      "text/plain": [
       "True"
      ]
     },
     "execution_count": 10,
     "metadata": {},
     "output_type": "execute_result"
    }
   ],
   "source": [
    "import os\n",
    "with open('./path.txt','r') as f:\n",
    "    path = f.read()\n",
    "os.path.exists(path)"
   ]
  },
  {
   "cell_type": "code",
   "execution_count": 12,
   "metadata": {},
   "outputs": [],
   "source": [
    "business_path = \"yelp_academic_dataset_business.json\"\n",
    "checkin_path = \"yelp_academic_dataset_checkin.json\"\n",
    "review_path = \"yelp_academic_dataset_review.json\"\n",
    "tip_path = \"yelp_academic_dataset_tip.json\"\n",
    "user_path = \"yelp_academic_dataset_user.json\"\n",
    "\n",
    "business_path, checkin_path, review_path, tip_path, user_path = list(map(lambda y: path + '/' + y,[business_path, checkin_path, review_path, tip_path, user_path]))"
   ]
  },
  {
   "cell_type": "markdown",
   "metadata": {},
   "source": [
    "# User filtering"
   ]
  },
  {
   "cell_type": "code",
   "execution_count": 4,
   "metadata": {},
   "outputs": [
    {
     "name": "stdout",
     "output_type": "stream",
     "text": [
      "221708\n"
     ]
    }
   ],
   "source": [
    "import pandas as pd\n",
    "import json\n",
    "\n",
    "df_user = pd.concat(pd.read_json(user_path, lines=True, chunksize=1000), ignore_index=True)\n",
    "df_user = df_user[df_user['useful'] > 40]\n",
    "print(df_user.shape[0])\n",
    "# df_checkin = pd.concat(pd.read_json(checkin_path, lines=True, chunksize=1000), ignore_index=True)\n",
    "# df_tip = pd.concat(pd.read_json(tip_path, lines=True, chunksize=1000), ignore_index=True)"
   ]
  },
  {
   "cell_type": "code",
   "execution_count": null,
   "metadata": {},
   "outputs": [
    {
     "name": "stdout",
     "output_type": "stream",
     "text": [
      "46770\n",
      "41443\n",
      "41371\n"
     ]
    }
   ],
   "source": [
    "df1 = df_user[df_user['fans'] > 5]\n",
    "print(df1.shape[0])\n",
    "df2 = df1[df1['review_count'] > 100]\n",
    "print(df2.shape[0])\n",
    "df3 = df2[df2['friends'].str.split(',').map(len) > 45]\n",
    "print(df3.shape[0])"
   ]
  },
  {
   "cell_type": "code",
   "execution_count": 6,
   "metadata": {},
   "outputs": [],
   "source": [
    "df3.to_csv('users.csv', index=False)"
   ]
  },
  {
   "cell_type": "code",
   "execution_count": 7,
   "metadata": {},
   "outputs": [
    {
     "data": {
      "text/html": [
       "<div>\n",
       "<style scoped>\n",
       "    .dataframe tbody tr th:only-of-type {\n",
       "        vertical-align: middle;\n",
       "    }\n",
       "\n",
       "    .dataframe tbody tr th {\n",
       "        vertical-align: top;\n",
       "    }\n",
       "\n",
       "    .dataframe thead th {\n",
       "        text-align: right;\n",
       "    }\n",
       "</style>\n",
       "<table border=\"1\" class=\"dataframe\">\n",
       "  <thead>\n",
       "    <tr style=\"text-align: right;\">\n",
       "      <th></th>\n",
       "      <th>review_count</th>\n",
       "      <th>useful</th>\n",
       "      <th>funny</th>\n",
       "      <th>cool</th>\n",
       "      <th>fans</th>\n",
       "      <th>average_stars</th>\n",
       "      <th>compliment_hot</th>\n",
       "      <th>compliment_more</th>\n",
       "      <th>compliment_profile</th>\n",
       "      <th>compliment_cute</th>\n",
       "      <th>compliment_list</th>\n",
       "      <th>compliment_note</th>\n",
       "      <th>compliment_plain</th>\n",
       "      <th>compliment_cool</th>\n",
       "      <th>compliment_funny</th>\n",
       "      <th>compliment_writer</th>\n",
       "      <th>compliment_photos</th>\n",
       "    </tr>\n",
       "  </thead>\n",
       "  <tbody>\n",
       "    <tr>\n",
       "      <th>count</th>\n",
       "      <td>41371.000000</td>\n",
       "      <td>41371.000000</td>\n",
       "      <td>41371.000000</td>\n",
       "      <td>41371.000000</td>\n",
       "      <td>41371.000000</td>\n",
       "      <td>41371.000000</td>\n",
       "      <td>41371.000000</td>\n",
       "      <td>41371.000000</td>\n",
       "      <td>41371.000000</td>\n",
       "      <td>41371.000000</td>\n",
       "      <td>41371.000000</td>\n",
       "      <td>41371.000000</td>\n",
       "      <td>41371.000000</td>\n",
       "      <td>41371.000000</td>\n",
       "      <td>41371.000000</td>\n",
       "      <td>41371.000000</td>\n",
       "      <td>41371.000000</td>\n",
       "    </tr>\n",
       "    <tr>\n",
       "      <th>mean</th>\n",
       "      <td>378.433685</td>\n",
       "      <td>1321.367915</td>\n",
       "      <td>630.970849</td>\n",
       "      <td>922.974837</td>\n",
       "      <td>47.183172</td>\n",
       "      <td>3.904295</td>\n",
       "      <td>78.920548</td>\n",
       "      <td>9.839743</td>\n",
       "      <td>7.498175</td>\n",
       "      <td>5.693795</td>\n",
       "      <td>2.877499</td>\n",
       "      <td>53.421406</td>\n",
       "      <td>125.114138</td>\n",
       "      <td>119.974572</td>\n",
       "      <td>119.974572</td>\n",
       "      <td>42.077325</td>\n",
       "      <td>54.362428</td>\n",
       "    </tr>\n",
       "    <tr>\n",
       "      <th>std</th>\n",
       "      <td>389.038425</td>\n",
       "      <td>4245.140841</td>\n",
       "      <td>2752.974087</td>\n",
       "      <td>3809.825993</td>\n",
       "      <td>115.696545</td>\n",
       "      <td>0.345328</td>\n",
       "      <td>503.637927</td>\n",
       "      <td>88.287079</td>\n",
       "      <td>104.765209</td>\n",
       "      <td>78.481771</td>\n",
       "      <td>69.555291</td>\n",
       "      <td>413.212087</td>\n",
       "      <td>817.948308</td>\n",
       "      <td>658.679951</td>\n",
       "      <td>658.679951</td>\n",
       "      <td>219.010969</td>\n",
       "      <td>657.191221</td>\n",
       "    </tr>\n",
       "    <tr>\n",
       "      <th>min</th>\n",
       "      <td>101.000000</td>\n",
       "      <td>42.000000</td>\n",
       "      <td>0.000000</td>\n",
       "      <td>8.000000</td>\n",
       "      <td>11.000000</td>\n",
       "      <td>1.220000</td>\n",
       "      <td>0.000000</td>\n",
       "      <td>0.000000</td>\n",
       "      <td>0.000000</td>\n",
       "      <td>0.000000</td>\n",
       "      <td>0.000000</td>\n",
       "      <td>0.000000</td>\n",
       "      <td>0.000000</td>\n",
       "      <td>0.000000</td>\n",
       "      <td>0.000000</td>\n",
       "      <td>0.000000</td>\n",
       "      <td>0.000000</td>\n",
       "    </tr>\n",
       "    <tr>\n",
       "      <th>25%</th>\n",
       "      <td>181.000000</td>\n",
       "      <td>310.000000</td>\n",
       "      <td>82.000000</td>\n",
       "      <td>136.000000</td>\n",
       "      <td>15.000000</td>\n",
       "      <td>3.690000</td>\n",
       "      <td>4.000000</td>\n",
       "      <td>1.000000</td>\n",
       "      <td>0.000000</td>\n",
       "      <td>0.000000</td>\n",
       "      <td>0.000000</td>\n",
       "      <td>6.000000</td>\n",
       "      <td>9.000000</td>\n",
       "      <td>9.000000</td>\n",
       "      <td>9.000000</td>\n",
       "      <td>5.000000</td>\n",
       "      <td>2.000000</td>\n",
       "    </tr>\n",
       "    <tr>\n",
       "      <th>50%</th>\n",
       "      <td>274.000000</td>\n",
       "      <td>529.000000</td>\n",
       "      <td>171.000000</td>\n",
       "      <td>257.000000</td>\n",
       "      <td>24.000000</td>\n",
       "      <td>3.910000</td>\n",
       "      <td>10.000000</td>\n",
       "      <td>3.000000</td>\n",
       "      <td>1.000000</td>\n",
       "      <td>0.000000</td>\n",
       "      <td>0.000000</td>\n",
       "      <td>13.000000</td>\n",
       "      <td>19.000000</td>\n",
       "      <td>21.000000</td>\n",
       "      <td>21.000000</td>\n",
       "      <td>12.000000</td>\n",
       "      <td>5.000000</td>\n",
       "    </tr>\n",
       "    <tr>\n",
       "      <th>75%</th>\n",
       "      <td>440.000000</td>\n",
       "      <td>1036.000000</td>\n",
       "      <td>410.000000</td>\n",
       "      <td>589.000000</td>\n",
       "      <td>43.000000</td>\n",
       "      <td>4.130000</td>\n",
       "      <td>31.000000</td>\n",
       "      <td>7.000000</td>\n",
       "      <td>3.000000</td>\n",
       "      <td>2.000000</td>\n",
       "      <td>1.000000</td>\n",
       "      <td>31.000000</td>\n",
       "      <td>49.000000</td>\n",
       "      <td>57.000000</td>\n",
       "      <td>57.000000</td>\n",
       "      <td>28.000000</td>\n",
       "      <td>14.000000</td>\n",
       "    </tr>\n",
       "    <tr>\n",
       "      <th>max</th>\n",
       "      <td>17473.000000</td>\n",
       "      <td>206296.000000</td>\n",
       "      <td>185823.000000</td>\n",
       "      <td>199878.000000</td>\n",
       "      <td>12497.000000</td>\n",
       "      <td>5.000000</td>\n",
       "      <td>25784.000000</td>\n",
       "      <td>13501.000000</td>\n",
       "      <td>14180.000000</td>\n",
       "      <td>13654.000000</td>\n",
       "      <td>12669.000000</td>\n",
       "      <td>59031.000000</td>\n",
       "      <td>101097.000000</td>\n",
       "      <td>49967.000000</td>\n",
       "      <td>49967.000000</td>\n",
       "      <td>15934.000000</td>\n",
       "      <td>82630.000000</td>\n",
       "    </tr>\n",
       "  </tbody>\n",
       "</table>\n",
       "</div>"
      ],
      "text/plain": [
       "       review_count         useful          funny           cool  \\\n",
       "count  41371.000000   41371.000000   41371.000000   41371.000000   \n",
       "mean     378.433685    1321.367915     630.970849     922.974837   \n",
       "std      389.038425    4245.140841    2752.974087    3809.825993   \n",
       "min      101.000000      42.000000       0.000000       8.000000   \n",
       "25%      181.000000     310.000000      82.000000     136.000000   \n",
       "50%      274.000000     529.000000     171.000000     257.000000   \n",
       "75%      440.000000    1036.000000     410.000000     589.000000   \n",
       "max    17473.000000  206296.000000  185823.000000  199878.000000   \n",
       "\n",
       "               fans  average_stars  compliment_hot  compliment_more  \\\n",
       "count  41371.000000   41371.000000    41371.000000     41371.000000   \n",
       "mean      47.183172       3.904295       78.920548         9.839743   \n",
       "std      115.696545       0.345328      503.637927        88.287079   \n",
       "min       11.000000       1.220000        0.000000         0.000000   \n",
       "25%       15.000000       3.690000        4.000000         1.000000   \n",
       "50%       24.000000       3.910000       10.000000         3.000000   \n",
       "75%       43.000000       4.130000       31.000000         7.000000   \n",
       "max    12497.000000       5.000000    25784.000000     13501.000000   \n",
       "\n",
       "       compliment_profile  compliment_cute  compliment_list  compliment_note  \\\n",
       "count        41371.000000     41371.000000     41371.000000     41371.000000   \n",
       "mean             7.498175         5.693795         2.877499        53.421406   \n",
       "std            104.765209        78.481771        69.555291       413.212087   \n",
       "min              0.000000         0.000000         0.000000         0.000000   \n",
       "25%              0.000000         0.000000         0.000000         6.000000   \n",
       "50%              1.000000         0.000000         0.000000        13.000000   \n",
       "75%              3.000000         2.000000         1.000000        31.000000   \n",
       "max          14180.000000     13654.000000     12669.000000     59031.000000   \n",
       "\n",
       "       compliment_plain  compliment_cool  compliment_funny  compliment_writer  \\\n",
       "count      41371.000000     41371.000000      41371.000000       41371.000000   \n",
       "mean         125.114138       119.974572        119.974572          42.077325   \n",
       "std          817.948308       658.679951        658.679951         219.010969   \n",
       "min            0.000000         0.000000          0.000000           0.000000   \n",
       "25%            9.000000         9.000000          9.000000           5.000000   \n",
       "50%           19.000000        21.000000         21.000000          12.000000   \n",
       "75%           49.000000        57.000000         57.000000          28.000000   \n",
       "max       101097.000000     49967.000000      49967.000000       15934.000000   \n",
       "\n",
       "       compliment_photos  \n",
       "count       41371.000000  \n",
       "mean           54.362428  \n",
       "std           657.191221  \n",
       "min             0.000000  \n",
       "25%             2.000000  \n",
       "50%             5.000000  \n",
       "75%            14.000000  \n",
       "max         82630.000000  "
      ]
     },
     "execution_count": 7,
     "metadata": {},
     "output_type": "execute_result"
    }
   ],
   "source": [
    "df3.describe()"
   ]
  },
  {
   "cell_type": "code",
   "execution_count": 8,
   "metadata": {},
   "outputs": [
    {
     "data": {
      "image/png": "[encoded data removed]",
      "text/plain": [
       "<Figure size 640x480 with 1 Axes>"
      ]
     },
     "metadata": {},
     "output_type": "display_data"
    }
   ],
   "source": [
    "import matplotlib.pyplot as plt\n",
    "\n",
    "plt.hist(df3['friends'].str.split(',').map(len), color='blue', alpha=0.7)\n",
    "plt.xlim(0,2000)\n",
    "plt.show()\n"
   ]
  },
  {
   "cell_type": "markdown",
   "metadata": {},
   "source": [
    "# Business Filtering"
   ]
  },
  {
   "cell_type": "code",
   "execution_count": 9,
   "metadata": {},
   "outputs": [],
   "source": [
    "df_business = pd.concat(pd.read_json(business_path, lines=True, chunksize=1000), ignore_index=True)"
   ]
  },
  {
   "cell_type": "code",
   "execution_count": 10,
   "metadata": {},
   "outputs": [
    {
     "name": "stdout",
     "output_type": "stream",
     "text": [
      "150346\n",
      "32115\n"
     ]
    }
   ],
   "source": [
    "print(df_business.shape[0])\n",
    "df_business1 = df_business[df_business['review_count'] > 44]\n",
    "print(df_business1.shape[0])"
   ]
  },
  {
   "cell_type": "code",
   "execution_count": 11,
   "metadata": {},
   "outputs": [
    {
     "data": {
      "text/html": [
       "<div>\n",
       "<style scoped>\n",
       "    .dataframe tbody tr th:only-of-type {\n",
       "        vertical-align: middle;\n",
       "    }\n",
       "\n",
       "    .dataframe tbody tr th {\n",
       "        vertical-align: top;\n",
       "    }\n",
       "\n",
       "    .dataframe thead th {\n",
       "        text-align: right;\n",
       "    }\n",
       "</style>\n",
       "<table border=\"1\" class=\"dataframe\">\n",
       "  <thead>\n",
       "    <tr style=\"text-align: right;\">\n",
       "      <th></th>\n",
       "      <th>latitude</th>\n",
       "      <th>longitude</th>\n",
       "      <th>stars</th>\n",
       "      <th>review_count</th>\n",
       "      <th>is_open</th>\n",
       "    </tr>\n",
       "  </thead>\n",
       "  <tbody>\n",
       "    <tr>\n",
       "      <th>count</th>\n",
       "      <td>32115.000000</td>\n",
       "      <td>32115.000000</td>\n",
       "      <td>32115.000000</td>\n",
       "      <td>32115.000000</td>\n",
       "      <td>32115.000000</td>\n",
       "    </tr>\n",
       "    <tr>\n",
       "      <th>mean</th>\n",
       "      <td>36.169592</td>\n",
       "      <td>-89.537079</td>\n",
       "      <td>3.711038</td>\n",
       "      <td>156.390160</td>\n",
       "      <td>0.798350</td>\n",
       "    </tr>\n",
       "    <tr>\n",
       "      <th>std</th>\n",
       "      <td>5.322853</td>\n",
       "      <td>14.995062</td>\n",
       "      <td>0.743344</td>\n",
       "      <td>229.128127</td>\n",
       "      <td>0.401239</td>\n",
       "    </tr>\n",
       "    <tr>\n",
       "      <th>min</th>\n",
       "      <td>27.564457</td>\n",
       "      <td>-120.083745</td>\n",
       "      <td>1.000000</td>\n",
       "      <td>45.000000</td>\n",
       "      <td>0.000000</td>\n",
       "    </tr>\n",
       "    <tr>\n",
       "      <th>25%</th>\n",
       "      <td>30.011992</td>\n",
       "      <td>-90.324650</td>\n",
       "      <td>3.500000</td>\n",
       "      <td>61.000000</td>\n",
       "      <td>1.000000</td>\n",
       "    </tr>\n",
       "    <tr>\n",
       "      <th>50%</th>\n",
       "      <td>38.635129</td>\n",
       "      <td>-86.146391</td>\n",
       "      <td>4.000000</td>\n",
       "      <td>91.000000</td>\n",
       "      <td>1.000000</td>\n",
       "    </tr>\n",
       "    <tr>\n",
       "      <th>75%</th>\n",
       "      <td>39.947478</td>\n",
       "      <td>-75.405666</td>\n",
       "      <td>4.000000</td>\n",
       "      <td>165.000000</td>\n",
       "      <td>1.000000</td>\n",
       "    </tr>\n",
       "    <tr>\n",
       "      <th>max</th>\n",
       "      <td>53.649743</td>\n",
       "      <td>-74.682591</td>\n",
       "      <td>5.000000</td>\n",
       "      <td>7568.000000</td>\n",
       "      <td>1.000000</td>\n",
       "    </tr>\n",
       "  </tbody>\n",
       "</table>\n",
       "</div>"
      ],
      "text/plain": [
       "           latitude     longitude         stars  review_count       is_open\n",
       "count  32115.000000  32115.000000  32115.000000  32115.000000  32115.000000\n",
       "mean      36.169592    -89.537079      3.711038    156.390160      0.798350\n",
       "std        5.322853     14.995062      0.743344    229.128127      0.401239\n",
       "min       27.564457   -120.083745      1.000000     45.000000      0.000000\n",
       "25%       30.011992    -90.324650      3.500000     61.000000      1.000000\n",
       "50%       38.635129    -86.146391      4.000000     91.000000      1.000000\n",
       "75%       39.947478    -75.405666      4.000000    165.000000      1.000000\n",
       "max       53.649743    -74.682591      5.000000   7568.000000      1.000000"
      ]
     },
     "execution_count": 11,
     "metadata": {},
     "output_type": "execute_result"
    }
   ],
   "source": [
    "df_business1.describe()"
   ]
  },
  {
   "cell_type": "code",
   "execution_count": 12,
   "metadata": {},
   "outputs": [
    {
     "data": {
      "text/plain": [
       "(array([3.1612e+04, 3.6800e+02, 8.2000e+01, 2.7000e+01, 9.0000e+00,\n",
       "        9.0000e+00, 4.0000e+00, 1.0000e+00, 1.0000e+00, 2.0000e+00]),\n",
       " array([  45. ,  797.3, 1549.6, 2301.9, 3054.2, 3806.5, 4558.8, 5311.1,\n",
       "        6063.4, 6815.7, 7568. ]),\n",
       " <BarContainer object of 10 artists>)"
      ]
     },
     "execution_count": 12,
     "metadata": {},
     "output_type": "execute_result"
    },
    {
     "data": {
      "image/png": "[encoded data removed]",
      "text/plain": [
       "<Figure size 640x480 with 1 Axes>"
      ]
     },
     "metadata": {},
     "output_type": "display_data"
    }
   ],
   "source": [
    "import matplotlib.pyplot as plt\n",
    "\n",
    "plt.hist(df_business1['review_count'], color='blue', alpha=0.7)"
   ]
  },
  {
   "cell_type": "code",
   "execution_count": 13,
   "metadata": {},
   "outputs": [],
   "source": [
    "df_business1.to_csv('business.csv', index=False)"
   ]
  },
  {
   "cell_type": "markdown",
   "metadata": {},
   "source": [
    "# Review Filtering"
   ]
  },
  {
   "cell_type": "code",
   "execution_count": 13,
   "metadata": {},
   "outputs": [
    {
     "name": "stdout",
     "output_type": "stream",
     "text": [
      "6990280\n"
     ]
    },
    {
     "data": {
      "text/html": [
       "<div>\n",
       "<style scoped>\n",
       "    .dataframe tbody tr th:only-of-type {\n",
       "        vertical-align: middle;\n",
       "    }\n",
       "\n",
       "    .dataframe tbody tr th {\n",
       "        vertical-align: top;\n",
       "    }\n",
       "\n",
       "    .dataframe thead th {\n",
       "        text-align: right;\n",
       "    }\n",
       "</style>\n",
       "<table border=\"1\" class=\"dataframe\">\n",
       "  <thead>\n",
       "    <tr style=\"text-align: right;\">\n",
       "      <th></th>\n",
       "      <th>stars</th>\n",
       "      <th>useful</th>\n",
       "      <th>funny</th>\n",
       "      <th>cool</th>\n",
       "    </tr>\n",
       "  </thead>\n",
       "  <tbody>\n",
       "    <tr>\n",
       "      <th>count</th>\n",
       "      <td>6.990280e+06</td>\n",
       "      <td>6.990280e+06</td>\n",
       "      <td>6.990280e+06</td>\n",
       "      <td>6.990280e+06</td>\n",
       "    </tr>\n",
       "    <tr>\n",
       "      <th>mean</th>\n",
       "      <td>3.748584e+00</td>\n",
       "      <td>1.184609e+00</td>\n",
       "      <td>3.265596e-01</td>\n",
       "      <td>4.986175e-01</td>\n",
       "    </tr>\n",
       "    <tr>\n",
       "      <th>std</th>\n",
       "      <td>1.478705e+00</td>\n",
       "      <td>3.253767e+00</td>\n",
       "      <td>1.688729e+00</td>\n",
       "      <td>2.172460e+00</td>\n",
       "    </tr>\n",
       "    <tr>\n",
       "      <th>min</th>\n",
       "      <td>1.000000e+00</td>\n",
       "      <td>-1.000000e+00</td>\n",
       "      <td>-1.000000e+00</td>\n",
       "      <td>-1.000000e+00</td>\n",
       "    </tr>\n",
       "    <tr>\n",
       "      <th>25%</th>\n",
       "      <td>3.000000e+00</td>\n",
       "      <td>0.000000e+00</td>\n",
       "      <td>0.000000e+00</td>\n",
       "      <td>0.000000e+00</td>\n",
       "    </tr>\n",
       "    <tr>\n",
       "      <th>50%</th>\n",
       "      <td>4.000000e+00</td>\n",
       "      <td>0.000000e+00</td>\n",
       "      <td>0.000000e+00</td>\n",
       "      <td>0.000000e+00</td>\n",
       "    </tr>\n",
       "    <tr>\n",
       "      <th>75%</th>\n",
       "      <td>5.000000e+00</td>\n",
       "      <td>1.000000e+00</td>\n",
       "      <td>0.000000e+00</td>\n",
       "      <td>0.000000e+00</td>\n",
       "    </tr>\n",
       "    <tr>\n",
       "      <th>max</th>\n",
       "      <td>5.000000e+00</td>\n",
       "      <td>1.182000e+03</td>\n",
       "      <td>7.920000e+02</td>\n",
       "      <td>4.040000e+02</td>\n",
       "    </tr>\n",
       "  </tbody>\n",
       "</table>\n",
       "</div>"
      ],
      "text/plain": [
       "              stars        useful         funny          cool\n",
       "count  6.990280e+06  6.990280e+06  6.990280e+06  6.990280e+06\n",
       "mean   3.748584e+00  1.184609e+00  3.265596e-01  4.986175e-01\n",
       "std    1.478705e+00  3.253767e+00  1.688729e+00  2.172460e+00\n",
       "min    1.000000e+00 -1.000000e+00 -1.000000e+00 -1.000000e+00\n",
       "25%    3.000000e+00  0.000000e+00  0.000000e+00  0.000000e+00\n",
       "50%    4.000000e+00  0.000000e+00  0.000000e+00  0.000000e+00\n",
       "75%    5.000000e+00  1.000000e+00  0.000000e+00  0.000000e+00\n",
       "max    5.000000e+00  1.182000e+03  7.920000e+02  4.040000e+02"
      ]
     },
     "execution_count": 13,
     "metadata": {},
     "output_type": "execute_result"
    }
   ],
   "source": [
    "import pandas as pd #ran //\n",
    "\n",
    "df_review = pd.concat(pd.read_json(review_path, lines=True, chunksize=1000), ignore_index=True)\n",
    "print(df_review.shape[0])\n",
    "df_review.describe()"
   ]
  },
  {
   "cell_type": "code",
   "execution_count": 5,
   "metadata": {},
   "outputs": [
    {
     "data": {
      "text/plain": [
       "Index(['review_id', 'user_id', 'business_id', 'stars', 'useful', 'funny',\n",
       "       'cool', 'text', 'date'],\n",
       "      dtype='object')"
      ]
     },
     "execution_count": 5,
     "metadata": {},
     "output_type": "execute_result"
    }
   ],
   "source": [
    "df_review.columns"
   ]
  },
  {
   "cell_type": "code",
   "execution_count": 42,
   "metadata": {},
   "outputs": [
    {
     "name": "stdout",
     "output_type": "stream",
     "text": [
      "<class 'str'>\n",
      "<class 'list'> 10\n"
     ]
    },
    {
     "name": "stderr",
     "output_type": "stream",
     "text": [
      "Top10: 100%|██████████| 50241/50241 [04:31<00:00, 184.85it/s]"
     ]
    },
    {
     "name": "stdout",
     "output_type": "stream",
     "text": [
      "0    [VHdY6oG2JPVNjihWhOooAQ, iLjMdZi0Tm7DQxX1C1_2d...\n",
      "1    [37cpUoM8hlkSQfReIEBd-Q, Hi10sGSZNxQH3NLyWSZ1o...\n",
      "2    [djxnI8Ux8ZYQJhiOQkrRhA, G9Vb6yQ047TC3O_-GG4WZ...\n",
      "3    [To7EBxWC-Yz011V2-tdTvA, 1kpMAKRZuAz3OzxBav3XT...\n",
      "4    [hizGc5W1tBHPghM5YKCAtg, VHdY6oG2JPVNjihWhOooA...\n",
      "Name: friends, dtype: object\n"
     ]
    },
    {
     "name": "stderr",
     "output_type": "stream",
     "text": [
      "\n"
     ]
    }
   ],
   "source": [
    "from tqdm import tqdm\n",
    "from ast import literal_eval\n",
    "\n",
    "df3 = pd.read_csv(\"C:/Users/susha/Desktop/DSM grp proj/filteredCSV/users.csv\")\n",
    "user_set = set(df3['user_id'])\n",
    "print(type(df3['friends'][0]))\n",
    "# i = 0\n",
    "def find_top10(frenlist):\n",
    "    # global i\n",
    "    # print(i)\n",
    "    # i+=1\n",
    "    if type(frenlist)==str:\n",
    "        friends=set(frenlist.split(','))\n",
    "    else:\n",
    "        return []\n",
    "    # df_temp=df3[]\n",
    "    # df_temp=[row for row in df3 if row['user_id'] in friends]\n",
    "    df_temp=df3[df3['user_id'].isin(friends)]\n",
    "    # print(df_temp['fans'])\n",
    "    df_temp=df_temp.sort_values(by='fans', ascending=False)\n",
    "    # print(df_temp['fans'])\n",
    "    L= df_temp['user_id'].head(10).tolist()\n",
    "    # print(L)\n",
    "    return L\n",
    "\n",
    "L=find_top10(df3['friends'][0])\n",
    "print(type(L),len(L))\n",
    "tqdm.pandas(desc=\"Top10\")\n",
    "df3['friends'] = df3['friends'].progress_map(find_top10)\n",
    "print(df3['friends'].head())\n",
    "# df3['friends'].map(len).describe()"
   ]
  },
  {
   "cell_type": "code",
   "execution_count": 45,
   "metadata": {},
   "outputs": [
    {
     "name": "stdout",
     "output_type": "stream",
     "text": [
      "<class 'list'> 10\n",
      "                  user_id    name  review_count        yelping_since  useful  \\\n",
      "0  qVc8ODYU5SZjKXVBgXdI7w  Walker           585  2007-01-25 16:47:26    7217   \n",
      "1  j14WgRoU_-2ZE1aw1dXrJg  Daniel          4333  2009-01-25 04:35:42   43091   \n",
      "2  2WnXYQFK0hXEoTxPtV2zvg   Steph           665  2008-07-25 10:41:00    2086   \n",
      "3  SZDeASXq7o05mMNLshsdIA    Gwen           224  2005-11-29 04:38:33     512   \n",
      "4  q_QQ5kBBwlCcbL1s4NVK3g    Jane          1221  2005-03-14 20:26:35   14953   \n",
      "\n",
      "   funny   cool                                              elite  \\\n",
      "0   1259   5994                                               2007   \n",
      "1  13066  27281  2009,2010,2011,2012,2013,2014,2015,2016,2017,2...   \n",
      "2   1010   1003                           2009,2010,2011,2012,2013   \n",
      "3    330    299                                     2009,2010,2011   \n",
      "4   9940  11211       2006,2007,2008,2009,2010,2011,2012,2013,2014   \n",
      "\n",
      "                                             friends  fans  ...  \\\n",
      "0  [VHdY6oG2JPVNjihWhOooAQ, iLjMdZi0Tm7DQxX1C1_2d...   267  ...   \n",
      "1  [37cpUoM8hlkSQfReIEBd-Q, Hi10sGSZNxQH3NLyWSZ1o...  3138  ...   \n",
      "2  [djxnI8Ux8ZYQJhiOQkrRhA, G9Vb6yQ047TC3O_-GG4WZ...    52  ...   \n",
      "3  [To7EBxWC-Yz011V2-tdTvA, 1kpMAKRZuAz3OzxBav3XT...    28  ...   \n",
      "4  [hizGc5W1tBHPghM5YKCAtg, VHdY6oG2JPVNjihWhOooA...  1357  ...   \n",
      "\n",
      "   compliment_more  compliment_profile  compliment_cute  compliment_list  \\\n",
      "0               65                  55               56               18   \n",
      "1              264                 184              157              251   \n",
      "2               13                  10               17                3   \n",
      "3                4                   1                6                2   \n",
      "4              163                 191              361              147   \n",
      "\n",
      "   compliment_note  compliment_plain  compliment_cool  compliment_funny  \\\n",
      "0              232               844              467               467   \n",
      "1             1847              7054             3131              3131   \n",
      "2               66                96              119               119   \n",
      "3               12                16               26                26   \n",
      "4             1212              5696             2543              2543   \n",
      "\n",
      "   compliment_writer  compliment_photos  \n",
      "0                239                180  \n",
      "1               1521               1946  \n",
      "2                 35                 18  \n",
      "3                 10                  9  \n",
      "4                815                323  \n",
      "\n",
      "[5 rows x 22 columns]\n"
     ]
    }
   ],
   "source": [
    "print(type(df3['friends'][0]),len(df3['friends'][0]))\n",
    "print(df3.head())\n"
   ]
  },
  {
   "cell_type": "code",
   "execution_count": null,
   "metadata": {},
   "outputs": [
    {
     "name": "stdout",
     "output_type": "stream",
     "text": [
      "['VHdY6oG2JPVNjihWhOooAQ', 'iLjMdZi0Tm7DQxX1C1_2dg', 'nkN_do3fJ9xekchVC-v68A', '3zxy3LVBV3ttxoYbY4rQ8A', 'G9Vb6yQ047TC3O_-GG4WZA', 'B7ecAeAIrXg7sgmabS38pg', 'gjhzKWsqCIrpEd9pevbKZw', 'mvK1pv-x0Z5rP4Hz9cWBWw', '5MCBLBxr10NLUKZ4AboAMg', 'dIIKEfOgo0KqUfGQvGikPg']\n",
      "10 0 SFAUHFDI\n",
      "['37cpUoM8hlkSQfReIEBd-Q', 'Hi10sGSZNxQH3NLyWSZ1oA', 'JjXuiru1_ONzDkYVrHN0aw', 'VHdY6oG2JPVNjihWhOooAQ', 'fgwI3rYHOv1ipfVfCSx7pg', 'nkN_do3fJ9xekchVC-v68A', 'djxnI8Ux8ZYQJhiOQkrRhA', 'G9Vb6yQ047TC3O_-GG4WZA', 'AbMjnKOwg736fcIu8apuyQ', 'hdzTAN8DGJKRddkZ8279JQ']\n",
      "10 1 SFAUHFDI\n",
      "['djxnI8Ux8ZYQJhiOQkrRhA', 'G9Vb6yQ047TC3O_-GG4WZA', 'gjhzKWsqCIrpEd9pevbKZw', 'F_5_UNX-wrAFCXuAkBZRDw', 'wZPizeBxMAyOSl0M0zuCjg', 'EiwxlbR8fb68lMgEXhcWKA', 'HCP1pR_44Pw5_BiWAp47-Q', 'lPNsKsD-HvdgkzfGq-Gjig', '2l0O1EI1m0yWjFo2zSt71w', 'IzJ36jX6V6ky5BtoN-Agng']\n",
      "10 2 SFAUHFDI\n",
      "['To7EBxWC-Yz011V2-tdTvA', '1kpMAKRZuAz3OzxBav3XTg', '4Y81J2Tdq5XAnkeYmCZ2ow', 'RgDVC3ZUBqpEe6Y1kPhIpw', 'TEtzbpgA2BFBrC0y0sCbfw', 'UVxY0iyPaqY7s4BSFtt-xA', 'hcGgZ4PbKcM3K1clw7tEGA', 'ipleTHGh9KR8hO5U1yxzXw', '1OocYCAZixwbAXueW75FMw', 'JAFgOs6sMkZEE_nmwHXejw']\n",
      "10 3 SFAUHFDI\n",
      "['hizGc5W1tBHPghM5YKCAtg', 'VHdY6oG2JPVNjihWhOooAQ', 'iLjMdZi0Tm7DQxX1C1_2dg', 'fgwI3rYHOv1ipfVfCSx7pg', 'ITa3vh5ERI90G_WP4SmGUQ', 'UsXqCXRZwSCSw0AT7y1uBg', 'm07sy7eLtOjVdZ8oN9JKag', 'nkN_do3fJ9xekchVC-v68A', 'AHRrG3T1gJpHvtpZ-K0G_g', '3zxy3LVBV3ttxoYbY4rQ8A']\n",
      "10 4 SFAUHFDI\n",
      "['3zxy3LVBV3ttxoYbY4rQ8A', 'CQUDh80m48xnzUkx-X5NAw', '0fcXVDi6zmRYs7t3hTpYkQ', '5eKI5IE1LhtzUzE_DDWc8A']\n",
      "4 5 SFAUHFDI\n",
      "['VHdY6oG2JPVNjihWhOooAQ', 'iLjMdZi0Tm7DQxX1C1_2dg', 'ITa3vh5ERI90G_WP4SmGUQ', 'nkN_do3fJ9xekchVC-v68A', 'peuxbSQwXed-81cSqL7Ykw', '8DEyKVyplnOcSKx39vatbg', '-8EnCioUmDygAbsYZmTeRQ', '6LmdYq-mhsaOXHjGh0lvQg', 'qewG3X2O4X6JKskxyyqFwQ', 'Oi1qbcz2m2SnwUeztGYcnQ']\n",
      "10 6 SFAUHFDI\n",
      "['G9Vb6yQ047TC3O_-GG4WZA', 'mvK1pv-x0Z5rP4Hz9cWBWw', '8wKZ9gJYJtTdSVWgW7Or6Q', '2l0O1EI1m0yWjFo2zSt71w', 'HFECrzYDpgbS5EmTBtj2zQ', 'xf_vN-BJHNccH8iUhPu4yg', 'Mu6wz7_d6OBgRqkl4_NaXw', 'dfYNTBw--CYlZbFz581kYQ', 'a21yEFhTXEJImb9hGl0JyQ', 'Db80SCez0BdYaHdC0xmzoQ']\n",
      "10 7 SFAUHFDI\n",
      "['hizGc5W1tBHPghM5YKCAtg', 'peuxbSQwXed-81cSqL7Ykw', 'AbMjnKOwg736fcIu8apuyQ', 'IDVFG1pNSHIHoVuoLuZpcQ', 'nxWrhF_hyX0wwjrEkQX8uQ', 'NNL1zLTP2J_SOputgoPYeQ', 'W7DHyQlY_kXls2iXt-_2Ag', 'ZIOCmdFaMIF56FR-nWr_2A', '9HGR8sU_zm15sI109H-SGQ', 'chhv5egoLSXHs4my1HCJeg']\n",
      "10 8 SFAUHFDI\n",
      "['37cpUoM8hlkSQfReIEBd-Q', 'hizGc5W1tBHPghM5YKCAtg', 'Hi10sGSZNxQH3NLyWSZ1oA', 'JjXuiru1_ONzDkYVrHN0aw', 'VHdY6oG2JPVNjihWhOooAQ', 'iLjMdZi0Tm7DQxX1C1_2dg', 'fgwI3rYHOv1ipfVfCSx7pg', 'ITa3vh5ERI90G_WP4SmGUQ', 'UsXqCXRZwSCSw0AT7y1uBg', 'm07sy7eLtOjVdZ8oN9JKag']\n",
      "10 9 SFAUHFDI\n"
     ]
    }
   ],
   "source": [
    "for i in range(10):\n",
    "    # print(df3['friends'][i])\n",
    "    print(len(df3['friends'][i]), i, \"SFAUHFDI\")"
   ]
  },
  {
   "cell_type": "code",
   "execution_count": 48,
   "metadata": {},
   "outputs": [],
   "source": [
    "df3['friends'] = df3['friends'].map(lambda x: ','.join(x))\n",
    "df3.to_csv('users.csv', index=False)\n"
   ]
  },
  {
   "cell_type": "code",
   "execution_count": null,
   "metadata": {},
   "outputs": [
    {
     "ename": "FileNotFoundError",
     "evalue": "[Errno 2] No such file or directory: 'users.csv'",
     "output_type": "error",
     "traceback": [
      "\u001b[1;31m---------------------------------------------------------------------------\u001b[0m",
      "\u001b[1;31mFileNotFoundError\u001b[0m                         Traceback (most recent call last)",
      "Cell \u001b[1;32mIn[14], line 4\u001b[0m\n\u001b[0;32m      1\u001b[0m \u001b[38;5;28;01mfrom\u001b[39;00m \u001b[38;5;21;01mtqdm\u001b[39;00m \u001b[38;5;28;01mimport\u001b[39;00m tqdm\n\u001b[0;32m      2\u001b[0m \u001b[38;5;28;01mfrom\u001b[39;00m \u001b[38;5;21;01mast\u001b[39;00m \u001b[38;5;28;01mimport\u001b[39;00m literal_eval\n\u001b[1;32m----> 4\u001b[0m df3 \u001b[38;5;241m=\u001b[39m \u001b[43mpd\u001b[49m\u001b[38;5;241;43m.\u001b[39;49m\u001b[43mread_csv\u001b[49m\u001b[43m(\u001b[49m\u001b[38;5;124;43m'\u001b[39;49m\u001b[38;5;124;43musers.csv\u001b[39;49m\u001b[38;5;124;43m'\u001b[39;49m\u001b[43m)\u001b[49m\n\u001b[0;32m      5\u001b[0m df3[\u001b[38;5;124m'\u001b[39m\u001b[38;5;124muser_id\u001b[39m\u001b[38;5;124m'\u001b[39m] \u001b[38;5;241m=\u001b[39m df3[\u001b[38;5;124m'\u001b[39m\u001b[38;5;124muser_id\u001b[39m\u001b[38;5;124m'\u001b[39m]\u001b[38;5;241m.\u001b[39mmap(\u001b[38;5;28;01mlambda\u001b[39;00m x: x\u001b[38;5;241m.\u001b[39mstrip())\n\u001b[0;32m      6\u001b[0m user_set \u001b[38;5;241m=\u001b[39m \u001b[38;5;28mset\u001b[39m(df3[\u001b[38;5;124m'\u001b[39m\u001b[38;5;124muser_id\u001b[39m\u001b[38;5;124m'\u001b[39m])\n",
      "File \u001b[1;32mc:\\Users\\susha\\anaconda3\\lib\\site-packages\\pandas\\util\\_decorators.py:211\u001b[0m, in \u001b[0;36mdeprecate_kwarg.<locals>._deprecate_kwarg.<locals>.wrapper\u001b[1;34m(*args, **kwargs)\u001b[0m\n\u001b[0;32m    209\u001b[0m     \u001b[38;5;28;01melse\u001b[39;00m:\n\u001b[0;32m    210\u001b[0m         kwargs[new_arg_name] \u001b[38;5;241m=\u001b[39m new_arg_value\n\u001b[1;32m--> 211\u001b[0m \u001b[38;5;28;01mreturn\u001b[39;00m func(\u001b[38;5;241m*\u001b[39margs, \u001b[38;5;241m*\u001b[39m\u001b[38;5;241m*\u001b[39mkwargs)\n",
      "File \u001b[1;32mc:\\Users\\susha\\anaconda3\\lib\\site-packages\\pandas\\util\\_decorators.py:331\u001b[0m, in \u001b[0;36mdeprecate_nonkeyword_arguments.<locals>.decorate.<locals>.wrapper\u001b[1;34m(*args, **kwargs)\u001b[0m\n\u001b[0;32m    325\u001b[0m \u001b[38;5;28;01mif\u001b[39;00m \u001b[38;5;28mlen\u001b[39m(args) \u001b[38;5;241m>\u001b[39m num_allow_args:\n\u001b[0;32m    326\u001b[0m     warnings\u001b[38;5;241m.\u001b[39mwarn(\n\u001b[0;32m    327\u001b[0m         msg\u001b[38;5;241m.\u001b[39mformat(arguments\u001b[38;5;241m=\u001b[39m_format_argument_list(allow_args)),\n\u001b[0;32m    328\u001b[0m         \u001b[38;5;167;01mFutureWarning\u001b[39;00m,\n\u001b[0;32m    329\u001b[0m         stacklevel\u001b[38;5;241m=\u001b[39mfind_stack_level(),\n\u001b[0;32m    330\u001b[0m     )\n\u001b[1;32m--> 331\u001b[0m \u001b[38;5;28;01mreturn\u001b[39;00m func(\u001b[38;5;241m*\u001b[39margs, \u001b[38;5;241m*\u001b[39m\u001b[38;5;241m*\u001b[39mkwargs)\n",
      "File \u001b[1;32mc:\\Users\\susha\\anaconda3\\lib\\site-packages\\pandas\\io\\parsers\\readers.py:950\u001b[0m, in \u001b[0;36mread_csv\u001b[1;34m(filepath_or_buffer, sep, delimiter, header, names, index_col, usecols, squeeze, prefix, mangle_dupe_cols, dtype, engine, converters, true_values, false_values, skipinitialspace, skiprows, skipfooter, nrows, na_values, keep_default_na, na_filter, verbose, skip_blank_lines, parse_dates, infer_datetime_format, keep_date_col, date_parser, dayfirst, cache_dates, iterator, chunksize, compression, thousands, decimal, lineterminator, quotechar, quoting, doublequote, escapechar, comment, encoding, encoding_errors, dialect, error_bad_lines, warn_bad_lines, on_bad_lines, delim_whitespace, low_memory, memory_map, float_precision, storage_options)\u001b[0m\n\u001b[0;32m    935\u001b[0m kwds_defaults \u001b[38;5;241m=\u001b[39m _refine_defaults_read(\n\u001b[0;32m    936\u001b[0m     dialect,\n\u001b[0;32m    937\u001b[0m     delimiter,\n\u001b[1;32m   (...)\u001b[0m\n\u001b[0;32m    946\u001b[0m     defaults\u001b[38;5;241m=\u001b[39m{\u001b[38;5;124m\"\u001b[39m\u001b[38;5;124mdelimiter\u001b[39m\u001b[38;5;124m\"\u001b[39m: \u001b[38;5;124m\"\u001b[39m\u001b[38;5;124m,\u001b[39m\u001b[38;5;124m\"\u001b[39m},\n\u001b[0;32m    947\u001b[0m )\n\u001b[0;32m    948\u001b[0m kwds\u001b[38;5;241m.\u001b[39mupdate(kwds_defaults)\n\u001b[1;32m--> 950\u001b[0m \u001b[38;5;28;01mreturn\u001b[39;00m \u001b[43m_read\u001b[49m\u001b[43m(\u001b[49m\u001b[43mfilepath_or_buffer\u001b[49m\u001b[43m,\u001b[49m\u001b[43m \u001b[49m\u001b[43mkwds\u001b[49m\u001b[43m)\u001b[49m\n",
      "File \u001b[1;32mc:\\Users\\susha\\anaconda3\\lib\\site-packages\\pandas\\io\\parsers\\readers.py:605\u001b[0m, in \u001b[0;36m_read\u001b[1;34m(filepath_or_buffer, kwds)\u001b[0m\n\u001b[0;32m    602\u001b[0m _validate_names(kwds\u001b[38;5;241m.\u001b[39mget(\u001b[38;5;124m\"\u001b[39m\u001b[38;5;124mnames\u001b[39m\u001b[38;5;124m\"\u001b[39m, \u001b[38;5;28;01mNone\u001b[39;00m))\n\u001b[0;32m    604\u001b[0m \u001b[38;5;66;03m# Create the parser.\u001b[39;00m\n\u001b[1;32m--> 605\u001b[0m parser \u001b[38;5;241m=\u001b[39m TextFileReader(filepath_or_buffer, \u001b[38;5;241m*\u001b[39m\u001b[38;5;241m*\u001b[39mkwds)\n\u001b[0;32m    607\u001b[0m \u001b[38;5;28;01mif\u001b[39;00m chunksize \u001b[38;5;129;01mor\u001b[39;00m iterator:\n\u001b[0;32m    608\u001b[0m     \u001b[38;5;28;01mreturn\u001b[39;00m parser\n",
      "File \u001b[1;32mc:\\Users\\susha\\anaconda3\\lib\\site-packages\\pandas\\io\\parsers\\readers.py:1442\u001b[0m, in \u001b[0;36mTextFileReader.__init__\u001b[1;34m(self, f, engine, **kwds)\u001b[0m\n\u001b[0;32m   1439\u001b[0m     \u001b[38;5;28mself\u001b[39m\u001b[38;5;241m.\u001b[39moptions[\u001b[38;5;124m\"\u001b[39m\u001b[38;5;124mhas_index_names\u001b[39m\u001b[38;5;124m\"\u001b[39m] \u001b[38;5;241m=\u001b[39m kwds[\u001b[38;5;124m\"\u001b[39m\u001b[38;5;124mhas_index_names\u001b[39m\u001b[38;5;124m\"\u001b[39m]\n\u001b[0;32m   1441\u001b[0m \u001b[38;5;28mself\u001b[39m\u001b[38;5;241m.\u001b[39mhandles: IOHandles \u001b[38;5;241m|\u001b[39m \u001b[38;5;28;01mNone\u001b[39;00m \u001b[38;5;241m=\u001b[39m \u001b[38;5;28;01mNone\u001b[39;00m\n\u001b[1;32m-> 1442\u001b[0m \u001b[38;5;28mself\u001b[39m\u001b[38;5;241m.\u001b[39m_engine \u001b[38;5;241m=\u001b[39m \u001b[38;5;28;43mself\u001b[39;49m\u001b[38;5;241;43m.\u001b[39;49m\u001b[43m_make_engine\u001b[49m\u001b[43m(\u001b[49m\u001b[43mf\u001b[49m\u001b[43m,\u001b[49m\u001b[43m \u001b[49m\u001b[38;5;28;43mself\u001b[39;49m\u001b[38;5;241;43m.\u001b[39;49m\u001b[43mengine\u001b[49m\u001b[43m)\u001b[49m\n",
      "File \u001b[1;32mc:\\Users\\susha\\anaconda3\\lib\\site-packages\\pandas\\io\\parsers\\readers.py:1735\u001b[0m, in \u001b[0;36mTextFileReader._make_engine\u001b[1;34m(self, f, engine)\u001b[0m\n\u001b[0;32m   1733\u001b[0m     \u001b[38;5;28;01mif\u001b[39;00m \u001b[38;5;124m\"\u001b[39m\u001b[38;5;124mb\u001b[39m\u001b[38;5;124m\"\u001b[39m \u001b[38;5;129;01mnot\u001b[39;00m \u001b[38;5;129;01min\u001b[39;00m mode:\n\u001b[0;32m   1734\u001b[0m         mode \u001b[38;5;241m+\u001b[39m\u001b[38;5;241m=\u001b[39m \u001b[38;5;124m\"\u001b[39m\u001b[38;5;124mb\u001b[39m\u001b[38;5;124m\"\u001b[39m\n\u001b[1;32m-> 1735\u001b[0m \u001b[38;5;28mself\u001b[39m\u001b[38;5;241m.\u001b[39mhandles \u001b[38;5;241m=\u001b[39m \u001b[43mget_handle\u001b[49m\u001b[43m(\u001b[49m\n\u001b[0;32m   1736\u001b[0m \u001b[43m    \u001b[49m\u001b[43mf\u001b[49m\u001b[43m,\u001b[49m\n\u001b[0;32m   1737\u001b[0m \u001b[43m    \u001b[49m\u001b[43mmode\u001b[49m\u001b[43m,\u001b[49m\n\u001b[0;32m   1738\u001b[0m \u001b[43m    \u001b[49m\u001b[43mencoding\u001b[49m\u001b[38;5;241;43m=\u001b[39;49m\u001b[38;5;28;43mself\u001b[39;49m\u001b[38;5;241;43m.\u001b[39;49m\u001b[43moptions\u001b[49m\u001b[38;5;241;43m.\u001b[39;49m\u001b[43mget\u001b[49m\u001b[43m(\u001b[49m\u001b[38;5;124;43m\"\u001b[39;49m\u001b[38;5;124;43mencoding\u001b[39;49m\u001b[38;5;124;43m\"\u001b[39;49m\u001b[43m,\u001b[49m\u001b[43m \u001b[49m\u001b[38;5;28;43;01mNone\u001b[39;49;00m\u001b[43m)\u001b[49m\u001b[43m,\u001b[49m\n\u001b[0;32m   1739\u001b[0m \u001b[43m    \u001b[49m\u001b[43mcompression\u001b[49m\u001b[38;5;241;43m=\u001b[39;49m\u001b[38;5;28;43mself\u001b[39;49m\u001b[38;5;241;43m.\u001b[39;49m\u001b[43moptions\u001b[49m\u001b[38;5;241;43m.\u001b[39;49m\u001b[43mget\u001b[49m\u001b[43m(\u001b[49m\u001b[38;5;124;43m\"\u001b[39;49m\u001b[38;5;124;43mcompression\u001b[39;49m\u001b[38;5;124;43m\"\u001b[39;49m\u001b[43m,\u001b[49m\u001b[43m \u001b[49m\u001b[38;5;28;43;01mNone\u001b[39;49;00m\u001b[43m)\u001b[49m\u001b[43m,\u001b[49m\n\u001b[0;32m   1740\u001b[0m \u001b[43m    \u001b[49m\u001b[43mmemory_map\u001b[49m\u001b[38;5;241;43m=\u001b[39;49m\u001b[38;5;28;43mself\u001b[39;49m\u001b[38;5;241;43m.\u001b[39;49m\u001b[43moptions\u001b[49m\u001b[38;5;241;43m.\u001b[39;49m\u001b[43mget\u001b[49m\u001b[43m(\u001b[49m\u001b[38;5;124;43m\"\u001b[39;49m\u001b[38;5;124;43mmemory_map\u001b[39;49m\u001b[38;5;124;43m\"\u001b[39;49m\u001b[43m,\u001b[49m\u001b[43m \u001b[49m\u001b[38;5;28;43;01mFalse\u001b[39;49;00m\u001b[43m)\u001b[49m\u001b[43m,\u001b[49m\n\u001b[0;32m   1741\u001b[0m \u001b[43m    \u001b[49m\u001b[43mis_text\u001b[49m\u001b[38;5;241;43m=\u001b[39;49m\u001b[43mis_text\u001b[49m\u001b[43m,\u001b[49m\n\u001b[0;32m   1742\u001b[0m \u001b[43m    \u001b[49m\u001b[43merrors\u001b[49m\u001b[38;5;241;43m=\u001b[39;49m\u001b[38;5;28;43mself\u001b[39;49m\u001b[38;5;241;43m.\u001b[39;49m\u001b[43moptions\u001b[49m\u001b[38;5;241;43m.\u001b[39;49m\u001b[43mget\u001b[49m\u001b[43m(\u001b[49m\u001b[38;5;124;43m\"\u001b[39;49m\u001b[38;5;124;43mencoding_errors\u001b[39;49m\u001b[38;5;124;43m\"\u001b[39;49m\u001b[43m,\u001b[49m\u001b[43m \u001b[49m\u001b[38;5;124;43m\"\u001b[39;49m\u001b[38;5;124;43mstrict\u001b[39;49m\u001b[38;5;124;43m\"\u001b[39;49m\u001b[43m)\u001b[49m\u001b[43m,\u001b[49m\n\u001b[0;32m   1743\u001b[0m \u001b[43m    \u001b[49m\u001b[43mstorage_options\u001b[49m\u001b[38;5;241;43m=\u001b[39;49m\u001b[38;5;28;43mself\u001b[39;49m\u001b[38;5;241;43m.\u001b[39;49m\u001b[43moptions\u001b[49m\u001b[38;5;241;43m.\u001b[39;49m\u001b[43mget\u001b[49m\u001b[43m(\u001b[49m\u001b[38;5;124;43m\"\u001b[39;49m\u001b[38;5;124;43mstorage_options\u001b[39;49m\u001b[38;5;124;43m\"\u001b[39;49m\u001b[43m,\u001b[49m\u001b[43m \u001b[49m\u001b[38;5;28;43;01mNone\u001b[39;49;00m\u001b[43m)\u001b[49m\u001b[43m,\u001b[49m\n\u001b[0;32m   1744\u001b[0m \u001b[43m\u001b[49m\u001b[43m)\u001b[49m\n\u001b[0;32m   1745\u001b[0m \u001b[38;5;28;01massert\u001b[39;00m \u001b[38;5;28mself\u001b[39m\u001b[38;5;241m.\u001b[39mhandles \u001b[38;5;129;01mis\u001b[39;00m \u001b[38;5;129;01mnot\u001b[39;00m \u001b[38;5;28;01mNone\u001b[39;00m\n\u001b[0;32m   1746\u001b[0m f \u001b[38;5;241m=\u001b[39m \u001b[38;5;28mself\u001b[39m\u001b[38;5;241m.\u001b[39mhandles\u001b[38;5;241m.\u001b[39mhandle\n",
      "File \u001b[1;32mc:\\Users\\susha\\anaconda3\\lib\\site-packages\\pandas\\io\\common.py:856\u001b[0m, in \u001b[0;36mget_handle\u001b[1;34m(path_or_buf, mode, encoding, compression, memory_map, is_text, errors, storage_options)\u001b[0m\n\u001b[0;32m    851\u001b[0m \u001b[38;5;28;01melif\u001b[39;00m \u001b[38;5;28misinstance\u001b[39m(handle, \u001b[38;5;28mstr\u001b[39m):\n\u001b[0;32m    852\u001b[0m     \u001b[38;5;66;03m# Check whether the filename is to be opened in binary mode.\u001b[39;00m\n\u001b[0;32m    853\u001b[0m     \u001b[38;5;66;03m# Binary mode does not support 'encoding' and 'newline'.\u001b[39;00m\n\u001b[0;32m    854\u001b[0m     \u001b[38;5;28;01mif\u001b[39;00m ioargs\u001b[38;5;241m.\u001b[39mencoding \u001b[38;5;129;01mand\u001b[39;00m \u001b[38;5;124m\"\u001b[39m\u001b[38;5;124mb\u001b[39m\u001b[38;5;124m\"\u001b[39m \u001b[38;5;129;01mnot\u001b[39;00m \u001b[38;5;129;01min\u001b[39;00m ioargs\u001b[38;5;241m.\u001b[39mmode:\n\u001b[0;32m    855\u001b[0m         \u001b[38;5;66;03m# Encoding\u001b[39;00m\n\u001b[1;32m--> 856\u001b[0m         handle \u001b[38;5;241m=\u001b[39m \u001b[38;5;28;43mopen\u001b[39;49m\u001b[43m(\u001b[49m\n\u001b[0;32m    857\u001b[0m \u001b[43m            \u001b[49m\u001b[43mhandle\u001b[49m\u001b[43m,\u001b[49m\n\u001b[0;32m    858\u001b[0m \u001b[43m            \u001b[49m\u001b[43mioargs\u001b[49m\u001b[38;5;241;43m.\u001b[39;49m\u001b[43mmode\u001b[49m\u001b[43m,\u001b[49m\n\u001b[0;32m    859\u001b[0m \u001b[43m            \u001b[49m\u001b[43mencoding\u001b[49m\u001b[38;5;241;43m=\u001b[39;49m\u001b[43mioargs\u001b[49m\u001b[38;5;241;43m.\u001b[39;49m\u001b[43mencoding\u001b[49m\u001b[43m,\u001b[49m\n\u001b[0;32m    860\u001b[0m \u001b[43m            \u001b[49m\u001b[43merrors\u001b[49m\u001b[38;5;241;43m=\u001b[39;49m\u001b[43merrors\u001b[49m\u001b[43m,\u001b[49m\n\u001b[0;32m    861\u001b[0m \u001b[43m            \u001b[49m\u001b[43mnewline\u001b[49m\u001b[38;5;241;43m=\u001b[39;49m\u001b[38;5;124;43m\"\u001b[39;49m\u001b[38;5;124;43m\"\u001b[39;49m\u001b[43m,\u001b[49m\n\u001b[0;32m    862\u001b[0m \u001b[43m        \u001b[49m\u001b[43m)\u001b[49m\n\u001b[0;32m    863\u001b[0m     \u001b[38;5;28;01melse\u001b[39;00m:\n\u001b[0;32m    864\u001b[0m         \u001b[38;5;66;03m# Binary mode\u001b[39;00m\n\u001b[0;32m    865\u001b[0m         handle \u001b[38;5;241m=\u001b[39m \u001b[38;5;28mopen\u001b[39m(handle, ioargs\u001b[38;5;241m.\u001b[39mmode)\n",
      "\u001b[1;31mFileNotFoundError\u001b[0m: [Errno 2] No such file or directory: 'users.csv'"
     ]
    }
   ],
   "source": [
    "from tqdm import tqdm\n",
    "from ast import literal_eval\n",
    "\n",
    "df3 = pd.read_csv('\"C:/Users/susha/Desktop/DSM grp proj/filteredCSV/users.csv\"')\n",
    "df3['user_id'] = df3['user_id'].map(lambda x: x.strip())\n",
    "user_set = set(df3['user_id'])\n",
    "\n",
    "tqdm.pandas(desc=\"Splitting\")\n",
    "df3['friends'] = df3['friends'].fillna('').str.split(',').progress_map(lambda x: [i.strip() for i in x if i])\n",
    "df3['friends'] = df3['friends'].progress_map(lambda x: [i for i in x if i in user_set] if isinstance(x, list) else [])\n",
    "df3['friends'] = df3['friends'].progress_map(lambda x: ','.join(x) if isinstance(x, list) else '')\n",
    "\n",
    "df3['friends'].map(len).describe()"
   ]
  },
  {
   "cell_type": "code",
   "execution_count": null,
   "metadata": {},
   "outputs": [],
   "source": [
    "df3.to_csv('users.csv', index=False)"
   ]
  },
  {
   "cell_type": "code",
   "execution_count": 64,
   "metadata": {},
   "outputs": [],
   "source": [
    "from ast import literal_eval\n",
    "df3 = pd.read_csv('users.csv')\n",
    "\n",
    "df3['friends'] = df3['friends'].apply(literal_eval).apply(lambda x: ','.join(x))\n",
    "df3.to_csv('users.csv', index=False)"
   ]
  },
  {
   "cell_type": "code",
   "execution_count": 33,
   "metadata": {},
   "outputs": [],
   "source": [
    "df3.to_csv('users.csv', index=False)"
   ]
  },
  {
   "cell_type": "code",
   "execution_count": 4,
   "metadata": {},
   "outputs": [],
   "source": [
    "import pandas as pd\n",
    "df3 = pd.read_csv(\"C:/Users/susha/Desktop/DSM grp proj/filteredCSV/users.csv\")"
   ]
  },
  {
   "cell_type": "code",
   "execution_count": 5,
   "metadata": {},
   "outputs": [],
   "source": [
    "df_business1 = pd.read_csv(\"C:/Users/susha/Desktop/DSM grp proj/filteredCSV/business.csv\")"
   ]
  },
  {
   "cell_type": "code",
   "execution_count": 6,
   "metadata": {},
   "outputs": [
    {
     "ename": "NameError",
     "evalue": "name 'df_review' is not defined",
     "output_type": "error",
     "traceback": [
      "\u001b[1;31m---------------------------------------------------------------------------\u001b[0m",
      "\u001b[1;31mNameError\u001b[0m                                 Traceback (most recent call last)",
      "Cell \u001b[1;32mIn[6], line 2\u001b[0m\n\u001b[0;32m      1\u001b[0m \u001b[38;5;66;03m# check if user_id is in df3 and business_id is in df_business1\u001b[39;00m\n\u001b[1;32m----> 2\u001b[0m df_review1 \u001b[38;5;241m=\u001b[39m \u001b[43mdf_review\u001b[49m[df_review[\u001b[38;5;124m'\u001b[39m\u001b[38;5;124muser_id\u001b[39m\u001b[38;5;124m'\u001b[39m]\u001b[38;5;241m.\u001b[39misin(df3[\u001b[38;5;124m'\u001b[39m\u001b[38;5;124muser_id\u001b[39m\u001b[38;5;124m'\u001b[39m])]\n\u001b[0;32m      3\u001b[0m \u001b[38;5;28mprint\u001b[39m(df_review1\u001b[38;5;241m.\u001b[39mshape[\u001b[38;5;241m0\u001b[39m])\n\u001b[0;32m      4\u001b[0m df_review2 \u001b[38;5;241m=\u001b[39m df_review1[df_review1[\u001b[38;5;124m'\u001b[39m\u001b[38;5;124mbusiness_id\u001b[39m\u001b[38;5;124m'\u001b[39m]\u001b[38;5;241m.\u001b[39misin(df_business1[\u001b[38;5;124m'\u001b[39m\u001b[38;5;124mbusiness_id\u001b[39m\u001b[38;5;124m'\u001b[39m])]\n",
      "\u001b[1;31mNameError\u001b[0m: name 'df_review' is not defined"
     ]
    }
   ],
   "source": [
    "# check if user_id is in df3 and business_id is in df_business1\n",
    "df_review1 = df_review[df_review['user_id'].isin(df3['user_id'])]\n",
    "print(df_review1.shape[0])\n",
    "df_review2 = df_review1[df_review1['business_id'].isin(df_business1['business_id'])]"
   ]
  },
  {
   "cell_type": "code",
   "execution_count": null,
   "metadata": {},
   "outputs": [
    {
     "name": "stdout",
     "output_type": "stream",
     "text": [
      "801459\n"
     ]
    },
    {
     "data": {
      "text/html": [
       "<div>\n",
       "<style scoped>\n",
       "    .dataframe tbody tr th:only-of-type {\n",
       "        vertical-align: middle;\n",
       "    }\n",
       "\n",
       "    .dataframe tbody tr th {\n",
       "        vertical-align: top;\n",
       "    }\n",
       "\n",
       "    .dataframe thead th {\n",
       "        text-align: right;\n",
       "    }\n",
       "</style>\n",
       "<table border=\"1\" class=\"dataframe\">\n",
       "  <thead>\n",
       "    <tr style=\"text-align: right;\">\n",
       "      <th></th>\n",
       "      <th>stars</th>\n",
       "      <th>useful</th>\n",
       "      <th>funny</th>\n",
       "      <th>cool</th>\n",
       "      <th>date</th>\n",
       "    </tr>\n",
       "  </thead>\n",
       "  <tbody>\n",
       "    <tr>\n",
       "      <th>count</th>\n",
       "      <td>801459.000000</td>\n",
       "      <td>801459.000000</td>\n",
       "      <td>801459.000000</td>\n",
       "      <td>801459.000000</td>\n",
       "      <td>801459</td>\n",
       "    </tr>\n",
       "    <tr>\n",
       "      <th>mean</th>\n",
       "      <td>3.936845</td>\n",
       "      <td>2.932030</td>\n",
       "      <td>1.073764</td>\n",
       "      <td>1.879973</td>\n",
       "      <td>2015-10-25 18:55:17.978704128</td>\n",
       "    </tr>\n",
       "    <tr>\n",
       "      <th>min</th>\n",
       "      <td>1.000000</td>\n",
       "      <td>0.000000</td>\n",
       "      <td>0.000000</td>\n",
       "      <td>0.000000</td>\n",
       "      <td>2005-02-16 03:23:22</td>\n",
       "    </tr>\n",
       "    <tr>\n",
       "      <th>25%</th>\n",
       "      <td>3.000000</td>\n",
       "      <td>0.000000</td>\n",
       "      <td>0.000000</td>\n",
       "      <td>0.000000</td>\n",
       "      <td>2013-05-14 00:35:43.500000</td>\n",
       "    </tr>\n",
       "    <tr>\n",
       "      <th>50%</th>\n",
       "      <td>4.000000</td>\n",
       "      <td>2.000000</td>\n",
       "      <td>0.000000</td>\n",
       "      <td>1.000000</td>\n",
       "      <td>2016-02-04 01:53:25</td>\n",
       "    </tr>\n",
       "    <tr>\n",
       "      <th>75%</th>\n",
       "      <td>5.000000</td>\n",
       "      <td>3.000000</td>\n",
       "      <td>1.000000</td>\n",
       "      <td>2.000000</td>\n",
       "      <td>2018-06-19 13:49:46</td>\n",
       "    </tr>\n",
       "    <tr>\n",
       "      <th>max</th>\n",
       "      <td>5.000000</td>\n",
       "      <td>399.000000</td>\n",
       "      <td>370.000000</td>\n",
       "      <td>399.000000</td>\n",
       "      <td>2022-01-19 18:59:27</td>\n",
       "    </tr>\n",
       "    <tr>\n",
       "      <th>std</th>\n",
       "      <td>1.028934</td>\n",
       "      <td>5.464713</td>\n",
       "      <td>3.190071</td>\n",
       "      <td>4.681420</td>\n",
       "      <td>NaN</td>\n",
       "    </tr>\n",
       "  </tbody>\n",
       "</table>\n",
       "</div>"
      ],
      "text/plain": [
       "               stars         useful          funny           cool  \\\n",
       "count  801459.000000  801459.000000  801459.000000  801459.000000   \n",
       "mean        3.936845       2.932030       1.073764       1.879973   \n",
       "min         1.000000       0.000000       0.000000       0.000000   \n",
       "25%         3.000000       0.000000       0.000000       0.000000   \n",
       "50%         4.000000       2.000000       0.000000       1.000000   \n",
       "75%         5.000000       3.000000       1.000000       2.000000   \n",
       "max         5.000000     399.000000     370.000000     399.000000   \n",
       "std         1.028934       5.464713       3.190071       4.681420   \n",
       "\n",
       "                                date  \n",
       "count                         801459  \n",
       "mean   2015-10-25 18:55:17.978704128  \n",
       "min              2005-02-16 03:23:22  \n",
       "25%       2013-05-14 00:35:43.500000  \n",
       "50%              2016-02-04 01:53:25  \n",
       "75%              2018-06-19 13:49:46  \n",
       "max              2022-01-19 18:59:27  \n",
       "std                              NaN  "
      ]
     },
     "execution_count": 12,
     "metadata": {},
     "output_type": "execute_result"
    }
   ],
   "source": [
    "print(df_review2.shape[0])\n",
    "df_review2.describe()"
   ]
  },
  {
   "cell_type": "code",
   "execution_count": null,
   "metadata": {},
   "outputs": [],
   "source": [
    "import pandas as pd\n",
    "\n",
    "df_review2 = pd.read_csv('review.csv')"
   ]
  },
  {
   "cell_type": "code",
   "execution_count": null,
   "metadata": {},
   "outputs": [
    {
     "name": "stdout",
     "output_type": "stream",
     "text": [
      "196374\n",
      "54686\n",
      "54686\n"
     ]
    }
   ],
   "source": [
    "print(df_review2[df_review2['useful'] > 3].shape[0])\n",
    "print(df_review2[df_review2['useful'] > 8].shape[0])\n",
    "df_review2 = df_review2[df_review2['useful'] > 8]\n",
    "print(df_review2.shape[0])"
   ]
  },
  {
   "cell_type": "code",
   "execution_count": null,
   "metadata": {},
   "outputs": [],
   "source": [
    "df_review2.to_csv('review.csv', index=False)"
   ]
  },
  {
   "cell_type": "code",
   "execution_count": null,
   "metadata": {},
   "outputs": [
    {
     "data": {
      "text/plain": [
       "(0.0, 80.0)"
      ]
     },
     "execution_count": 17,
     "metadata": {},
     "output_type": "execute_result"
    },
    {
     "data": {
      "image/png": "[encoded data removed]",
      "text/plain": [
       "<Figure size 640x480 with 1 Axes>"
      ]
     },
     "metadata": {},
     "output_type": "display_data"
    }
   ],
   "source": [
    "import matplotlib.pyplot as plt\n",
    "\n",
    "plt.hist(df_review2['useful'],color='blue',alpha=0.7)\n",
    "plt.xlim(0,80)"
   ]
  },
  {
   "cell_type": "code",
   "execution_count": null,
   "metadata": {},
   "outputs": [
    {
     "name": "stdout",
     "output_type": "stream",
     "text": [
      "business.csv\n"
     ]
    }
   ],
   "source": [
    "business_path = \"business.csv\"\n",
    "review_path = \"review.csv\"\n",
    "# tip_path = \"yelp_academic_dataset_tip.json\"\n",
    "user_path = \"users.csv\"\n",
    "\n",
    "# business_path, review_path, user_path = list(map(lambda y: path + '/' + y,[business_path, review_path, user_path]))\n",
    "# business_path, review_path, user_path = list(map(lambda y:'\"'+ path + '/' + y+'\"',[business_path, review_path, user_path]))\n",
    "print(business_path)"
   ]
  }
 ],
 "metadata": {
  "kernelspec": {
   "display_name": "base",
   "language": "python",
   "name": "python3"
  },
  "language_info": {
   "codemirror_mode": {
    "name": "ipython",
    "version": 3
   },
   "file_extension": ".py",
   "mimetype": "text/x-python",
   "name": "python",
   "nbconvert_exporter": "python",
   "pygments_lexer": "ipython3",
   "version": "3.10.9"
  }
 },
 "nbformat": 4,
 "nbformat_minor": 2
}
